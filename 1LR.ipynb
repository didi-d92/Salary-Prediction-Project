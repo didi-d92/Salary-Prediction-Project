{
  "cells": [
    {
      "cell_type": "markdown",
      "metadata": {
        "id": "view-in-github",
        "colab_type": "text"
      },
      "source": [
        "<a href=\"https://colab.research.google.com/github/didi-d92/Salary-Prediction-Project/blob/main/1LR.ipynb\" target=\"_parent\"><img src=\"https://colab.research.google.com/assets/colab-badge.svg\" alt=\"Open In Colab\"/></a>"
      ]
    },
    {
      "cell_type": "code",
      "execution_count": 1,
      "metadata": {
        "id": "mEAU48wvrrE6"
      },
      "outputs": [],
      "source": [
        "import numpy as np\n",
        "import matplotlib.pyplot as plt\n",
        "import seaborn as sns\n",
        "import pandas as pd\n"
      ]
    },
    {
      "cell_type": "markdown",
      "source": [
        "#Downloading the data frame"
      ],
      "metadata": {
        "id": "sg1OPNEW5D0u"
      }
    },
    {
      "cell_type": "code",
      "execution_count": 2,
      "metadata": {
        "id": "4N4-vl6Ar7ot"
      },
      "outputs": [],
      "source": [
        "df= pd.read_csv('/content/Salary_Data.csv', low_memory=False)"
      ]
    },
    {
      "cell_type": "code",
      "execution_count": 3,
      "metadata": {
        "colab": {
          "base_uri": "https://localhost:8080/",
          "height": 424
        },
        "id": "UinNQsm0sWY_",
        "outputId": "090a4784-fecf-4c2e-a0fa-6ce8ea72094c"
      },
      "outputs": [
        {
          "output_type": "execute_result",
          "data": {
            "text/plain": [
              "       Age  Gender    Education Level              Job Title  \\\n",
              "0     32.0    Male         Bachelor's      Software Engineer   \n",
              "1     28.0  Female           Master's           Data Analyst   \n",
              "2     45.0    Male                PhD         Senior Manager   \n",
              "3     36.0  Female         Bachelor's        Sales Associate   \n",
              "4     52.0    Male           Master's               Director   \n",
              "...    ...     ...                ...                    ...   \n",
              "6699  49.0  Female                PhD  Director of Marketing   \n",
              "6700  32.0    Male        High School        Sales Associate   \n",
              "6701  30.0  Female  Bachelor's Degree      Financial Manager   \n",
              "6702  46.0    Male    Master's Degree      Marketing Manager   \n",
              "6703  26.0  Female        High School        Sales Executive   \n",
              "\n",
              "      Years of Experience    Salary  \n",
              "0                     5.0   90000.0  \n",
              "1                     3.0   65000.0  \n",
              "2                    15.0  150000.0  \n",
              "3                     7.0   60000.0  \n",
              "4                    20.0  200000.0  \n",
              "...                   ...       ...  \n",
              "6699                 20.0  200000.0  \n",
              "6700                  3.0   50000.0  \n",
              "6701                  4.0   55000.0  \n",
              "6702                 14.0  140000.0  \n",
              "6703                  1.0   35000.0  \n",
              "\n",
              "[6704 rows x 6 columns]"
            ],
            "text/html": [
              "\n",
              "  <div id=\"df-56dfd123-56a1-42fc-8e48-ad55e819f264\" class=\"colab-df-container\">\n",
              "    <div>\n",
              "<style scoped>\n",
              "    .dataframe tbody tr th:only-of-type {\n",
              "        vertical-align: middle;\n",
              "    }\n",
              "\n",
              "    .dataframe tbody tr th {\n",
              "        vertical-align: top;\n",
              "    }\n",
              "\n",
              "    .dataframe thead th {\n",
              "        text-align: right;\n",
              "    }\n",
              "</style>\n",
              "<table border=\"1\" class=\"dataframe\">\n",
              "  <thead>\n",
              "    <tr style=\"text-align: right;\">\n",
              "      <th></th>\n",
              "      <th>Age</th>\n",
              "      <th>Gender</th>\n",
              "      <th>Education Level</th>\n",
              "      <th>Job Title</th>\n",
              "      <th>Years of Experience</th>\n",
              "      <th>Salary</th>\n",
              "    </tr>\n",
              "  </thead>\n",
              "  <tbody>\n",
              "    <tr>\n",
              "      <th>0</th>\n",
              "      <td>32.0</td>\n",
              "      <td>Male</td>\n",
              "      <td>Bachelor's</td>\n",
              "      <td>Software Engineer</td>\n",
              "      <td>5.0</td>\n",
              "      <td>90000.0</td>\n",
              "    </tr>\n",
              "    <tr>\n",
              "      <th>1</th>\n",
              "      <td>28.0</td>\n",
              "      <td>Female</td>\n",
              "      <td>Master's</td>\n",
              "      <td>Data Analyst</td>\n",
              "      <td>3.0</td>\n",
              "      <td>65000.0</td>\n",
              "    </tr>\n",
              "    <tr>\n",
              "      <th>2</th>\n",
              "      <td>45.0</td>\n",
              "      <td>Male</td>\n",
              "      <td>PhD</td>\n",
              "      <td>Senior Manager</td>\n",
              "      <td>15.0</td>\n",
              "      <td>150000.0</td>\n",
              "    </tr>\n",
              "    <tr>\n",
              "      <th>3</th>\n",
              "      <td>36.0</td>\n",
              "      <td>Female</td>\n",
              "      <td>Bachelor's</td>\n",
              "      <td>Sales Associate</td>\n",
              "      <td>7.0</td>\n",
              "      <td>60000.0</td>\n",
              "    </tr>\n",
              "    <tr>\n",
              "      <th>4</th>\n",
              "      <td>52.0</td>\n",
              "      <td>Male</td>\n",
              "      <td>Master's</td>\n",
              "      <td>Director</td>\n",
              "      <td>20.0</td>\n",
              "      <td>200000.0</td>\n",
              "    </tr>\n",
              "    <tr>\n",
              "      <th>...</th>\n",
              "      <td>...</td>\n",
              "      <td>...</td>\n",
              "      <td>...</td>\n",
              "      <td>...</td>\n",
              "      <td>...</td>\n",
              "      <td>...</td>\n",
              "    </tr>\n",
              "    <tr>\n",
              "      <th>6699</th>\n",
              "      <td>49.0</td>\n",
              "      <td>Female</td>\n",
              "      <td>PhD</td>\n",
              "      <td>Director of Marketing</td>\n",
              "      <td>20.0</td>\n",
              "      <td>200000.0</td>\n",
              "    </tr>\n",
              "    <tr>\n",
              "      <th>6700</th>\n",
              "      <td>32.0</td>\n",
              "      <td>Male</td>\n",
              "      <td>High School</td>\n",
              "      <td>Sales Associate</td>\n",
              "      <td>3.0</td>\n",
              "      <td>50000.0</td>\n",
              "    </tr>\n",
              "    <tr>\n",
              "      <th>6701</th>\n",
              "      <td>30.0</td>\n",
              "      <td>Female</td>\n",
              "      <td>Bachelor's Degree</td>\n",
              "      <td>Financial Manager</td>\n",
              "      <td>4.0</td>\n",
              "      <td>55000.0</td>\n",
              "    </tr>\n",
              "    <tr>\n",
              "      <th>6702</th>\n",
              "      <td>46.0</td>\n",
              "      <td>Male</td>\n",
              "      <td>Master's Degree</td>\n",
              "      <td>Marketing Manager</td>\n",
              "      <td>14.0</td>\n",
              "      <td>140000.0</td>\n",
              "    </tr>\n",
              "    <tr>\n",
              "      <th>6703</th>\n",
              "      <td>26.0</td>\n",
              "      <td>Female</td>\n",
              "      <td>High School</td>\n",
              "      <td>Sales Executive</td>\n",
              "      <td>1.0</td>\n",
              "      <td>35000.0</td>\n",
              "    </tr>\n",
              "  </tbody>\n",
              "</table>\n",
              "<p>6704 rows × 6 columns</p>\n",
              "</div>\n",
              "    <div class=\"colab-df-buttons\">\n",
              "\n",
              "  <div class=\"colab-df-container\">\n",
              "    <button class=\"colab-df-convert\" onclick=\"convertToInteractive('df-56dfd123-56a1-42fc-8e48-ad55e819f264')\"\n",
              "            title=\"Convert this dataframe to an interactive table.\"\n",
              "            style=\"display:none;\">\n",
              "\n",
              "  <svg xmlns=\"http://www.w3.org/2000/svg\" height=\"24px\" viewBox=\"0 -960 960 960\">\n",
              "    <path d=\"M120-120v-720h720v720H120Zm60-500h600v-160H180v160Zm220 220h160v-160H400v160Zm0 220h160v-160H400v160ZM180-400h160v-160H180v160Zm440 0h160v-160H620v160ZM180-180h160v-160H180v160Zm440 0h160v-160H620v160Z\"/>\n",
              "  </svg>\n",
              "    </button>\n",
              "\n",
              "  <style>\n",
              "    .colab-df-container {\n",
              "      display:flex;\n",
              "      gap: 12px;\n",
              "    }\n",
              "\n",
              "    .colab-df-convert {\n",
              "      background-color: #E8F0FE;\n",
              "      border: none;\n",
              "      border-radius: 50%;\n",
              "      cursor: pointer;\n",
              "      display: none;\n",
              "      fill: #1967D2;\n",
              "      height: 32px;\n",
              "      padding: 0 0 0 0;\n",
              "      width: 32px;\n",
              "    }\n",
              "\n",
              "    .colab-df-convert:hover {\n",
              "      background-color: #E2EBFA;\n",
              "      box-shadow: 0px 1px 2px rgba(60, 64, 67, 0.3), 0px 1px 3px 1px rgba(60, 64, 67, 0.15);\n",
              "      fill: #174EA6;\n",
              "    }\n",
              "\n",
              "    .colab-df-buttons div {\n",
              "      margin-bottom: 4px;\n",
              "    }\n",
              "\n",
              "    [theme=dark] .colab-df-convert {\n",
              "      background-color: #3B4455;\n",
              "      fill: #D2E3FC;\n",
              "    }\n",
              "\n",
              "    [theme=dark] .colab-df-convert:hover {\n",
              "      background-color: #434B5C;\n",
              "      box-shadow: 0px 1px 3px 1px rgba(0, 0, 0, 0.15);\n",
              "      filter: drop-shadow(0px 1px 2px rgba(0, 0, 0, 0.3));\n",
              "      fill: #FFFFFF;\n",
              "    }\n",
              "  </style>\n",
              "\n",
              "    <script>\n",
              "      const buttonEl =\n",
              "        document.querySelector('#df-56dfd123-56a1-42fc-8e48-ad55e819f264 button.colab-df-convert');\n",
              "      buttonEl.style.display =\n",
              "        google.colab.kernel.accessAllowed ? 'block' : 'none';\n",
              "\n",
              "      async function convertToInteractive(key) {\n",
              "        const element = document.querySelector('#df-56dfd123-56a1-42fc-8e48-ad55e819f264');\n",
              "        const dataTable =\n",
              "          await google.colab.kernel.invokeFunction('convertToInteractive',\n",
              "                                                    [key], {});\n",
              "        if (!dataTable) return;\n",
              "\n",
              "        const docLinkHtml = 'Like what you see? Visit the ' +\n",
              "          '<a target=\"_blank\" href=https://colab.research.google.com/notebooks/data_table.ipynb>data table notebook</a>'\n",
              "          + ' to learn more about interactive tables.';\n",
              "        element.innerHTML = '';\n",
              "        dataTable['output_type'] = 'display_data';\n",
              "        await google.colab.output.renderOutput(dataTable, element);\n",
              "        const docLink = document.createElement('div');\n",
              "        docLink.innerHTML = docLinkHtml;\n",
              "        element.appendChild(docLink);\n",
              "      }\n",
              "    </script>\n",
              "  </div>\n",
              "\n",
              "\n",
              "<div id=\"df-0d888c2f-1a71-4e56-a512-99d3a9f6ebc0\">\n",
              "  <button class=\"colab-df-quickchart\" onclick=\"quickchart('df-0d888c2f-1a71-4e56-a512-99d3a9f6ebc0')\"\n",
              "            title=\"Suggest charts\"\n",
              "            style=\"display:none;\">\n",
              "\n",
              "<svg xmlns=\"http://www.w3.org/2000/svg\" height=\"24px\"viewBox=\"0 0 24 24\"\n",
              "     width=\"24px\">\n",
              "    <g>\n",
              "        <path d=\"M19 3H5c-1.1 0-2 .9-2 2v14c0 1.1.9 2 2 2h14c1.1 0 2-.9 2-2V5c0-1.1-.9-2-2-2zM9 17H7v-7h2v7zm4 0h-2V7h2v10zm4 0h-2v-4h2v4z\"/>\n",
              "    </g>\n",
              "</svg>\n",
              "  </button>\n",
              "\n",
              "<style>\n",
              "  .colab-df-quickchart {\n",
              "      --bg-color: #E8F0FE;\n",
              "      --fill-color: #1967D2;\n",
              "      --hover-bg-color: #E2EBFA;\n",
              "      --hover-fill-color: #174EA6;\n",
              "      --disabled-fill-color: #AAA;\n",
              "      --disabled-bg-color: #DDD;\n",
              "  }\n",
              "\n",
              "  [theme=dark] .colab-df-quickchart {\n",
              "      --bg-color: #3B4455;\n",
              "      --fill-color: #D2E3FC;\n",
              "      --hover-bg-color: #434B5C;\n",
              "      --hover-fill-color: #FFFFFF;\n",
              "      --disabled-bg-color: #3B4455;\n",
              "      --disabled-fill-color: #666;\n",
              "  }\n",
              "\n",
              "  .colab-df-quickchart {\n",
              "    background-color: var(--bg-color);\n",
              "    border: none;\n",
              "    border-radius: 50%;\n",
              "    cursor: pointer;\n",
              "    display: none;\n",
              "    fill: var(--fill-color);\n",
              "    height: 32px;\n",
              "    padding: 0;\n",
              "    width: 32px;\n",
              "  }\n",
              "\n",
              "  .colab-df-quickchart:hover {\n",
              "    background-color: var(--hover-bg-color);\n",
              "    box-shadow: 0 1px 2px rgba(60, 64, 67, 0.3), 0 1px 3px 1px rgba(60, 64, 67, 0.15);\n",
              "    fill: var(--button-hover-fill-color);\n",
              "  }\n",
              "\n",
              "  .colab-df-quickchart-complete:disabled,\n",
              "  .colab-df-quickchart-complete:disabled:hover {\n",
              "    background-color: var(--disabled-bg-color);\n",
              "    fill: var(--disabled-fill-color);\n",
              "    box-shadow: none;\n",
              "  }\n",
              "\n",
              "  .colab-df-spinner {\n",
              "    border: 2px solid var(--fill-color);\n",
              "    border-color: transparent;\n",
              "    border-bottom-color: var(--fill-color);\n",
              "    animation:\n",
              "      spin 1s steps(1) infinite;\n",
              "  }\n",
              "\n",
              "  @keyframes spin {\n",
              "    0% {\n",
              "      border-color: transparent;\n",
              "      border-bottom-color: var(--fill-color);\n",
              "      border-left-color: var(--fill-color);\n",
              "    }\n",
              "    20% {\n",
              "      border-color: transparent;\n",
              "      border-left-color: var(--fill-color);\n",
              "      border-top-color: var(--fill-color);\n",
              "    }\n",
              "    30% {\n",
              "      border-color: transparent;\n",
              "      border-left-color: var(--fill-color);\n",
              "      border-top-color: var(--fill-color);\n",
              "      border-right-color: var(--fill-color);\n",
              "    }\n",
              "    40% {\n",
              "      border-color: transparent;\n",
              "      border-right-color: var(--fill-color);\n",
              "      border-top-color: var(--fill-color);\n",
              "    }\n",
              "    60% {\n",
              "      border-color: transparent;\n",
              "      border-right-color: var(--fill-color);\n",
              "    }\n",
              "    80% {\n",
              "      border-color: transparent;\n",
              "      border-right-color: var(--fill-color);\n",
              "      border-bottom-color: var(--fill-color);\n",
              "    }\n",
              "    90% {\n",
              "      border-color: transparent;\n",
              "      border-bottom-color: var(--fill-color);\n",
              "    }\n",
              "  }\n",
              "</style>\n",
              "\n",
              "  <script>\n",
              "    async function quickchart(key) {\n",
              "      const quickchartButtonEl =\n",
              "        document.querySelector('#' + key + ' button');\n",
              "      quickchartButtonEl.disabled = true;  // To prevent multiple clicks.\n",
              "      quickchartButtonEl.classList.add('colab-df-spinner');\n",
              "      try {\n",
              "        const charts = await google.colab.kernel.invokeFunction(\n",
              "            'suggestCharts', [key], {});\n",
              "      } catch (error) {\n",
              "        console.error('Error during call to suggestCharts:', error);\n",
              "      }\n",
              "      quickchartButtonEl.classList.remove('colab-df-spinner');\n",
              "      quickchartButtonEl.classList.add('colab-df-quickchart-complete');\n",
              "    }\n",
              "    (() => {\n",
              "      let quickchartButtonEl =\n",
              "        document.querySelector('#df-0d888c2f-1a71-4e56-a512-99d3a9f6ebc0 button');\n",
              "      quickchartButtonEl.style.display =\n",
              "        google.colab.kernel.accessAllowed ? 'block' : 'none';\n",
              "    })();\n",
              "  </script>\n",
              "</div>\n",
              "\n",
              "  <div id=\"id_109255a4-50c2-40f1-9e05-c655aa2daaa1\">\n",
              "    <style>\n",
              "      .colab-df-generate {\n",
              "        background-color: #E8F0FE;\n",
              "        border: none;\n",
              "        border-radius: 50%;\n",
              "        cursor: pointer;\n",
              "        display: none;\n",
              "        fill: #1967D2;\n",
              "        height: 32px;\n",
              "        padding: 0 0 0 0;\n",
              "        width: 32px;\n",
              "      }\n",
              "\n",
              "      .colab-df-generate:hover {\n",
              "        background-color: #E2EBFA;\n",
              "        box-shadow: 0px 1px 2px rgba(60, 64, 67, 0.3), 0px 1px 3px 1px rgba(60, 64, 67, 0.15);\n",
              "        fill: #174EA6;\n",
              "      }\n",
              "\n",
              "      [theme=dark] .colab-df-generate {\n",
              "        background-color: #3B4455;\n",
              "        fill: #D2E3FC;\n",
              "      }\n",
              "\n",
              "      [theme=dark] .colab-df-generate:hover {\n",
              "        background-color: #434B5C;\n",
              "        box-shadow: 0px 1px 3px 1px rgba(0, 0, 0, 0.15);\n",
              "        filter: drop-shadow(0px 1px 2px rgba(0, 0, 0, 0.3));\n",
              "        fill: #FFFFFF;\n",
              "      }\n",
              "    </style>\n",
              "    <button class=\"colab-df-generate\" onclick=\"generateWithVariable('df')\"\n",
              "            title=\"Generate code using this dataframe.\"\n",
              "            style=\"display:none;\">\n",
              "\n",
              "  <svg xmlns=\"http://www.w3.org/2000/svg\" height=\"24px\"viewBox=\"0 0 24 24\"\n",
              "       width=\"24px\">\n",
              "    <path d=\"M7,19H8.4L18.45,9,17,7.55,7,17.6ZM5,21V16.75L18.45,3.32a2,2,0,0,1,2.83,0l1.4,1.43a1.91,1.91,0,0,1,.58,1.4,1.91,1.91,0,0,1-.58,1.4L9.25,21ZM18.45,9,17,7.55Zm-12,3A5.31,5.31,0,0,0,4.9,8.1,5.31,5.31,0,0,0,1,6.5,5.31,5.31,0,0,0,4.9,4.9,5.31,5.31,0,0,0,6.5,1,5.31,5.31,0,0,0,8.1,4.9,5.31,5.31,0,0,0,12,6.5,5.46,5.46,0,0,0,6.5,12Z\"/>\n",
              "  </svg>\n",
              "    </button>\n",
              "    <script>\n",
              "      (() => {\n",
              "      const buttonEl =\n",
              "        document.querySelector('#id_109255a4-50c2-40f1-9e05-c655aa2daaa1 button.colab-df-generate');\n",
              "      buttonEl.style.display =\n",
              "        google.colab.kernel.accessAllowed ? 'block' : 'none';\n",
              "\n",
              "      buttonEl.onclick = () => {\n",
              "        google.colab.notebook.generateWithVariable('df');\n",
              "      }\n",
              "      })();\n",
              "    </script>\n",
              "  </div>\n",
              "\n",
              "    </div>\n",
              "  </div>\n"
            ],
            "application/vnd.google.colaboratory.intrinsic+json": {
              "type": "dataframe",
              "variable_name": "df",
              "summary": "{\n  \"name\": \"df\",\n  \"rows\": 6704,\n  \"fields\": [\n    {\n      \"column\": \"Age\",\n      \"properties\": {\n        \"dtype\": \"number\",\n        \"std\": 7.614632626251171,\n        \"min\": 21.0,\n        \"max\": 62.0,\n        \"num_unique_values\": 41,\n        \"samples\": [\n          24.0,\n          27.0,\n          26.0\n        ],\n        \"semantic_type\": \"\",\n        \"description\": \"\"\n      }\n    },\n    {\n      \"column\": \"Gender\",\n      \"properties\": {\n        \"dtype\": \"category\",\n        \"num_unique_values\": 3,\n        \"samples\": [\n          \"Male\",\n          \"Female\",\n          \"Other\"\n        ],\n        \"semantic_type\": \"\",\n        \"description\": \"\"\n      }\n    },\n    {\n      \"column\": \"Education Level\",\n      \"properties\": {\n        \"dtype\": \"category\",\n        \"num_unique_values\": 7,\n        \"samples\": [\n          \"Bachelor's\",\n          \"Master's\",\n          \"High School\"\n        ],\n        \"semantic_type\": \"\",\n        \"description\": \"\"\n      }\n    },\n    {\n      \"column\": \"Job Title\",\n      \"properties\": {\n        \"dtype\": \"category\",\n        \"num_unique_values\": 193,\n        \"samples\": [\n          \"Account Manager\",\n          \"Junior HR Coordinator\",\n          \"Senior Project Manager\"\n        ],\n        \"semantic_type\": \"\",\n        \"description\": \"\"\n      }\n    },\n    {\n      \"column\": \"Years of Experience\",\n      \"properties\": {\n        \"dtype\": \"number\",\n        \"std\": 6.059003056634122,\n        \"min\": 0.0,\n        \"max\": 34.0,\n        \"num_unique_values\": 37,\n        \"samples\": [\n          9.0,\n          16.0,\n          20.0\n        ],\n        \"semantic_type\": \"\",\n        \"description\": \"\"\n      }\n    },\n    {\n      \"column\": \"Salary\",\n      \"properties\": {\n        \"dtype\": \"number\",\n        \"std\": 52786.183910682936,\n        \"min\": 350.0,\n        \"max\": 250000.0,\n        \"num_unique_values\": 444,\n        \"samples\": [\n          101733.0,\n          62807.0,\n          152039.0\n        ],\n        \"semantic_type\": \"\",\n        \"description\": \"\"\n      }\n    }\n  ]\n}"
            }
          },
          "metadata": {},
          "execution_count": 3
        }
      ],
      "source": [
        "df"
      ]
    },
    {
      "cell_type": "markdown",
      "source": [
        "#Exploring data set"
      ],
      "metadata": {
        "id": "k3gicF4c5YRN"
      }
    },
    {
      "cell_type": "code",
      "execution_count": 4,
      "metadata": {
        "colab": {
          "base_uri": "https://localhost:8080/"
        },
        "id": "TKSTmnkMshYR",
        "outputId": "dd68ff9b-fadd-4361-c5e3-bb053f341483"
      },
      "outputs": [
        {
          "output_type": "stream",
          "name": "stdout",
          "text": [
            "<class 'pandas.core.frame.DataFrame'>\n",
            "RangeIndex: 6704 entries, 0 to 6703\n",
            "Data columns (total 6 columns):\n",
            " #   Column               Non-Null Count  Dtype  \n",
            "---  ------               --------------  -----  \n",
            " 0   Age                  6702 non-null   float64\n",
            " 1   Gender               6702 non-null   object \n",
            " 2   Education Level      6701 non-null   object \n",
            " 3   Job Title            6702 non-null   object \n",
            " 4   Years of Experience  6701 non-null   float64\n",
            " 5   Salary               6699 non-null   float64\n",
            "dtypes: float64(3), object(3)\n",
            "memory usage: 314.4+ KB\n",
            "None\n"
          ]
        }
      ],
      "source": [
        "print(df.info())"
      ]
    },
    {
      "cell_type": "code",
      "execution_count": 5,
      "metadata": {
        "colab": {
          "base_uri": "https://localhost:8080/"
        },
        "id": "BdJGZqnZslTd",
        "outputId": "90379a25-c569-4630-b154-2587b2cd8f4b"
      },
      "outputs": [
        {
          "output_type": "stream",
          "name": "stdout",
          "text": [
            "(6704, 6)\n"
          ]
        }
      ],
      "source": [
        "print(df.shape)"
      ]
    },
    {
      "cell_type": "code",
      "execution_count": 6,
      "metadata": {
        "colab": {
          "base_uri": "https://localhost:8080/"
        },
        "id": "l6Y9Cz9Cs3Jl",
        "outputId": "a53d21a8-452e-41c5-e543-c47f9a334912"
      },
      "outputs": [
        {
          "output_type": "stream",
          "name": "stdout",
          "text": [
            "               Age  Years of Experience         Salary\n",
            "count  6702.000000          6701.000000    6699.000000\n",
            "mean     33.620859             8.094687  115326.964771\n",
            "std       7.614633             6.059003   52786.183911\n",
            "min      21.000000             0.000000     350.000000\n",
            "25%      28.000000             3.000000   70000.000000\n",
            "50%      32.000000             7.000000  115000.000000\n",
            "75%      38.000000            12.000000  160000.000000\n",
            "max      62.000000            34.000000  250000.000000\n"
          ]
        }
      ],
      "source": [
        "print(df.describe())"
      ]
    },
    {
      "cell_type": "markdown",
      "metadata": {
        "id": "MFb_QmLxv6bU"
      },
      "source": [
        "#Handeling problems with null vales"
      ]
    },
    {
      "cell_type": "code",
      "execution_count": 7,
      "metadata": {
        "colab": {
          "base_uri": "https://localhost:8080/",
          "height": 272
        },
        "id": "QeXS71RsvmZN",
        "outputId": "6f74b200-f62c-4e54-97b3-27f6dd155a26"
      },
      "outputs": [
        {
          "output_type": "execute_result",
          "data": {
            "text/plain": [
              "Age                    2\n",
              "Gender                 2\n",
              "Education Level        3\n",
              "Job Title              2\n",
              "Years of Experience    3\n",
              "Salary                 5\n",
              "dtype: int64"
            ],
            "text/html": [
              "<div>\n",
              "<style scoped>\n",
              "    .dataframe tbody tr th:only-of-type {\n",
              "        vertical-align: middle;\n",
              "    }\n",
              "\n",
              "    .dataframe tbody tr th {\n",
              "        vertical-align: top;\n",
              "    }\n",
              "\n",
              "    .dataframe thead th {\n",
              "        text-align: right;\n",
              "    }\n",
              "</style>\n",
              "<table border=\"1\" class=\"dataframe\">\n",
              "  <thead>\n",
              "    <tr style=\"text-align: right;\">\n",
              "      <th></th>\n",
              "      <th>0</th>\n",
              "    </tr>\n",
              "  </thead>\n",
              "  <tbody>\n",
              "    <tr>\n",
              "      <th>Age</th>\n",
              "      <td>2</td>\n",
              "    </tr>\n",
              "    <tr>\n",
              "      <th>Gender</th>\n",
              "      <td>2</td>\n",
              "    </tr>\n",
              "    <tr>\n",
              "      <th>Education Level</th>\n",
              "      <td>3</td>\n",
              "    </tr>\n",
              "    <tr>\n",
              "      <th>Job Title</th>\n",
              "      <td>2</td>\n",
              "    </tr>\n",
              "    <tr>\n",
              "      <th>Years of Experience</th>\n",
              "      <td>3</td>\n",
              "    </tr>\n",
              "    <tr>\n",
              "      <th>Salary</th>\n",
              "      <td>5</td>\n",
              "    </tr>\n",
              "  </tbody>\n",
              "</table>\n",
              "</div><br><label><b>dtype:</b> int64</label>"
            ]
          },
          "metadata": {},
          "execution_count": 7
        }
      ],
      "source": [
        "df.isnull().sum()"
      ]
    },
    {
      "cell_type": "markdown",
      "metadata": {
        "id": "aMsj00kLwBZB"
      },
      "source": [
        "KNNImputer"
      ]
    },
    {
      "cell_type": "code",
      "execution_count": 8,
      "metadata": {
        "colab": {
          "base_uri": "https://localhost:8080/"
        },
        "id": "i_vHIJ-uwA5B",
        "outputId": "c5f21278-802a-4087-8d6e-314bd3aaa343"
      },
      "outputs": [
        {
          "output_type": "stream",
          "name": "stdout",
          "text": [
            "Requirement already satisfied: pandas in /usr/local/lib/python3.10/dist-packages (2.2.2)\n",
            "Requirement already satisfied: scikit-learn in /usr/local/lib/python3.10/dist-packages (1.5.2)\n",
            "Requirement already satisfied: numpy>=1.22.4 in /usr/local/lib/python3.10/dist-packages (from pandas) (1.26.4)\n",
            "Requirement already satisfied: python-dateutil>=2.8.2 in /usr/local/lib/python3.10/dist-packages (from pandas) (2.8.2)\n",
            "Requirement already satisfied: pytz>=2020.1 in /usr/local/lib/python3.10/dist-packages (from pandas) (2024.2)\n",
            "Requirement already satisfied: tzdata>=2022.7 in /usr/local/lib/python3.10/dist-packages (from pandas) (2024.2)\n",
            "Requirement already satisfied: scipy>=1.6.0 in /usr/local/lib/python3.10/dist-packages (from scikit-learn) (1.13.1)\n",
            "Requirement already satisfied: joblib>=1.2.0 in /usr/local/lib/python3.10/dist-packages (from scikit-learn) (1.4.2)\n",
            "Requirement already satisfied: threadpoolctl>=3.1.0 in /usr/local/lib/python3.10/dist-packages (from scikit-learn) (3.5.0)\n",
            "Requirement already satisfied: six>=1.5 in /usr/local/lib/python3.10/dist-packages (from python-dateutil>=2.8.2->pandas) (1.16.0)\n"
          ]
        }
      ],
      "source": [
        "pip install pandas scikit-learn\n"
      ]
    },
    {
      "cell_type": "code",
      "execution_count": 9,
      "metadata": {
        "id": "C8CDmI7-zLrn"
      },
      "outputs": [],
      "source": [
        "from sklearn.impute import KNNImputer\n"
      ]
    },
    {
      "cell_type": "markdown",
      "metadata": {
        "id": "SG7uH3CT4kDC"
      },
      "source": [
        "Gender : 1 = male / Female= 0"
      ]
    },
    {
      "cell_type": "code",
      "execution_count": 10,
      "metadata": {
        "id": "ryg3PjBl4jvP"
      },
      "outputs": [],
      "source": [
        "df['Gender']= df['Gender'].map({'Male': 1, 'Female':0 })"
      ]
    },
    {
      "cell_type": "code",
      "execution_count": 11,
      "metadata": {
        "colab": {
          "base_uri": "https://localhost:8080/",
          "height": 241
        },
        "id": "2ODWORLT4rkW",
        "outputId": "eb13041d-c591-4f07-88a1-6491f0daad76"
      },
      "outputs": [
        {
          "output_type": "execute_result",
          "data": {
            "text/plain": [
              "0    1.0\n",
              "1    0.0\n",
              "2    1.0\n",
              "3    0.0\n",
              "4    1.0\n",
              "Name: Gender, dtype: float64"
            ],
            "text/html": [
              "<div>\n",
              "<style scoped>\n",
              "    .dataframe tbody tr th:only-of-type {\n",
              "        vertical-align: middle;\n",
              "    }\n",
              "\n",
              "    .dataframe tbody tr th {\n",
              "        vertical-align: top;\n",
              "    }\n",
              "\n",
              "    .dataframe thead th {\n",
              "        text-align: right;\n",
              "    }\n",
              "</style>\n",
              "<table border=\"1\" class=\"dataframe\">\n",
              "  <thead>\n",
              "    <tr style=\"text-align: right;\">\n",
              "      <th></th>\n",
              "      <th>Gender</th>\n",
              "    </tr>\n",
              "  </thead>\n",
              "  <tbody>\n",
              "    <tr>\n",
              "      <th>0</th>\n",
              "      <td>1.0</td>\n",
              "    </tr>\n",
              "    <tr>\n",
              "      <th>1</th>\n",
              "      <td>0.0</td>\n",
              "    </tr>\n",
              "    <tr>\n",
              "      <th>2</th>\n",
              "      <td>1.0</td>\n",
              "    </tr>\n",
              "    <tr>\n",
              "      <th>3</th>\n",
              "      <td>0.0</td>\n",
              "    </tr>\n",
              "    <tr>\n",
              "      <th>4</th>\n",
              "      <td>1.0</td>\n",
              "    </tr>\n",
              "  </tbody>\n",
              "</table>\n",
              "</div><br><label><b>dtype:</b> float64</label>"
            ]
          },
          "metadata": {},
          "execution_count": 11
        }
      ],
      "source": [
        "df['Gender'].head()"
      ]
    },
    {
      "cell_type": "markdown",
      "source": [
        "#KNNImputer for missing data"
      ],
      "metadata": {
        "id": "ydGXlAL55qJi"
      }
    },
    {
      "cell_type": "code",
      "execution_count": 12,
      "metadata": {
        "id": "muSyBdpF0eWo"
      },
      "outputs": [],
      "source": [
        "columns_with_numbers= df.select_dtypes(include=[np.number]).columns"
      ]
    },
    {
      "cell_type": "code",
      "execution_count": 13,
      "metadata": {
        "id": "OTy22CLJ0pcB"
      },
      "outputs": [],
      "source": [
        "numerical_df= df[columns_with_numbers]"
      ]
    },
    {
      "cell_type": "code",
      "execution_count": 14,
      "metadata": {
        "id": "44N5oYtPz0km"
      },
      "outputs": [],
      "source": [
        "imputer = KNNImputer(n_neighbors=3)\n"
      ]
    },
    {
      "cell_type": "code",
      "execution_count": 15,
      "metadata": {
        "id": "h_YeotMV089-"
      },
      "outputs": [],
      "source": [
        "impute_numerical_df=pd.DataFrame(imputer.fit_transform(numerical_df), columns=columns_with_numbers)"
      ]
    },
    {
      "cell_type": "code",
      "execution_count": 16,
      "metadata": {
        "id": "sljoXMbU1TI5"
      },
      "outputs": [],
      "source": [
        "df[columns_with_numbers] = impute_numerical_df"
      ]
    },
    {
      "cell_type": "code",
      "execution_count": 17,
      "metadata": {
        "colab": {
          "base_uri": "https://localhost:8080/"
        },
        "id": "-ZQIaapZ1fjj",
        "outputId": "502014e0-d267-4742-a079-d73a1cb74834"
      },
      "outputs": [
        {
          "output_type": "stream",
          "name": "stdout",
          "text": [
            "DataFrame después de la imputación solo en columnas numéricas:\n",
            "       Age  Gender    Education Level              Job Title  \\\n",
            "0     32.0     1.0         Bachelor's      Software Engineer   \n",
            "1     28.0     0.0           Master's           Data Analyst   \n",
            "2     45.0     1.0                PhD         Senior Manager   \n",
            "3     36.0     0.0         Bachelor's        Sales Associate   \n",
            "4     52.0     1.0           Master's               Director   \n",
            "...    ...     ...                ...                    ...   \n",
            "6699  49.0     0.0                PhD  Director of Marketing   \n",
            "6700  32.0     1.0        High School        Sales Associate   \n",
            "6701  30.0     0.0  Bachelor's Degree      Financial Manager   \n",
            "6702  46.0     1.0    Master's Degree      Marketing Manager   \n",
            "6703  26.0     0.0        High School        Sales Executive   \n",
            "\n",
            "      Years of Experience    Salary  \n",
            "0                     5.0   90000.0  \n",
            "1                     3.0   65000.0  \n",
            "2                    15.0  150000.0  \n",
            "3                     7.0   60000.0  \n",
            "4                    20.0  200000.0  \n",
            "...                   ...       ...  \n",
            "6699                 20.0  200000.0  \n",
            "6700                  3.0   50000.0  \n",
            "6701                  4.0   55000.0  \n",
            "6702                 14.0  140000.0  \n",
            "6703                  1.0   35000.0  \n",
            "\n",
            "[6704 rows x 6 columns]\n"
          ]
        }
      ],
      "source": [
        "print(\"DataFrame después de la imputación solo en columnas numéricas:\")\n",
        "print(df)"
      ]
    },
    {
      "cell_type": "code",
      "execution_count": 18,
      "metadata": {
        "colab": {
          "base_uri": "https://localhost:8080/"
        },
        "id": "SquMx6Zn1iEb",
        "outputId": "78bb0e97-544c-4df3-c39a-3e4c64960af7"
      },
      "outputs": [
        {
          "output_type": "stream",
          "name": "stdout",
          "text": [
            "Age                    0\n",
            "Gender                 0\n",
            "Education Level        3\n",
            "Job Title              2\n",
            "Years of Experience    0\n",
            "Salary                 0\n",
            "dtype: int64\n"
          ]
        }
      ],
      "source": [
        "print(df.isnull().sum())"
      ]
    },
    {
      "cell_type": "markdown",
      "metadata": {
        "id": "eTsnJO28207N"
      },
      "source": [
        "CAtegoric values"
      ]
    },
    {
      "cell_type": "code",
      "execution_count": 19,
      "metadata": {
        "id": "hu186TBt5gR4"
      },
      "outputs": [],
      "source": [
        "df.loc[df['Job Title'].isnull(), 'Job Title'] = df['Job Title'].mode()[0]\n",
        "df.loc[df['Education Level'].isnull(), 'Education Level'] = df['Education Level'].mode()[0]"
      ]
    },
    {
      "cell_type": "code",
      "execution_count": 20,
      "metadata": {
        "colab": {
          "base_uri": "https://localhost:8080/"
        },
        "id": "ySjK2xuC6NG0",
        "outputId": "378e7cc0-6b40-4870-f7e4-2ba1c7ea1da9"
      },
      "outputs": [
        {
          "output_type": "stream",
          "name": "stdout",
          "text": [
            "Age                    0\n",
            "Gender                 0\n",
            "Education Level        0\n",
            "Job Title              0\n",
            "Years of Experience    0\n",
            "Salary                 0\n",
            "dtype: int64\n"
          ]
        }
      ],
      "source": [
        "print(df.isnull().sum())"
      ]
    },
    {
      "cell_type": "code",
      "execution_count": 21,
      "metadata": {
        "colab": {
          "base_uri": "https://localhost:8080/"
        },
        "id": "osey2AUR6RFf",
        "outputId": "62ea6bc7-e726-4976-9784-b4eca17a5b00"
      },
      "outputs": [
        {
          "output_type": "stream",
          "name": "stdout",
          "text": [
            "4913\n"
          ]
        }
      ],
      "source": [
        "print(df.duplicated().sum())"
      ]
    },
    {
      "cell_type": "code",
      "execution_count": 22,
      "metadata": {
        "id": "HEtKA31R6naa"
      },
      "outputs": [],
      "source": [
        "duplicated= df.duplicated()"
      ]
    },
    {
      "cell_type": "code",
      "execution_count": 23,
      "metadata": {
        "id": "YDfn4fum6rAC"
      },
      "outputs": [],
      "source": [
        "duplicated_total= duplicated.sum()"
      ]
    },
    {
      "cell_type": "code",
      "execution_count": 24,
      "metadata": {
        "colab": {
          "base_uri": "https://localhost:8080/"
        },
        "id": "X6cuH_9V630C",
        "outputId": "8a6944c2-f490-4d6b-8622-5c50cfafbff1"
      },
      "outputs": [
        {
          "output_type": "stream",
          "name": "stdout",
          "text": [
            "Filas duplicadas:\n",
            "       Age  Gender    Education Level                              Job Title  \\\n",
            "195   28.0     1.0         Bachelor's                Junior Business Analyst   \n",
            "250   30.0     0.0         Bachelor's           Junior Marketing Coordinator   \n",
            "251   38.0     1.0           Master's                   Senior IT Consultant   \n",
            "252   45.0     0.0                PhD                Senior Product Designer   \n",
            "253   28.0     1.0         Bachelor's  Junior Business Development Associate   \n",
            "...    ...     ...                ...                                    ...   \n",
            "6699  49.0     0.0                PhD                  Director of Marketing   \n",
            "6700  32.0     1.0        High School                        Sales Associate   \n",
            "6701  30.0     0.0  Bachelor's Degree                      Financial Manager   \n",
            "6702  46.0     1.0    Master's Degree                      Marketing Manager   \n",
            "6703  26.0     0.0        High School                        Sales Executive   \n",
            "\n",
            "      Years of Experience    Salary  \n",
            "195                   2.0   40000.0  \n",
            "250                   2.0   40000.0  \n",
            "251                   9.0  110000.0  \n",
            "252                  15.0  150000.0  \n",
            "253                   2.0   40000.0  \n",
            "...                   ...       ...  \n",
            "6699                 20.0  200000.0  \n",
            "6700                  3.0   50000.0  \n",
            "6701                  4.0   55000.0  \n",
            "6702                 14.0  140000.0  \n",
            "6703                  1.0   35000.0  \n",
            "\n",
            "[4913 rows x 6 columns]\n"
          ]
        }
      ],
      "source": [
        "if duplicated_total > 0:\n",
        "    print(\"Filas duplicadas:\")\n",
        "    print(df[duplicated])\n",
        "else:\n",
        "    print(\"No hay filas duplicadas en el DataFrame.\")"
      ]
    },
    {
      "cell_type": "markdown",
      "source": [
        "I didn't do nothing with duplicated values because they weren't a problem as you can see above"
      ],
      "metadata": {
        "id": "_iu-tGZU554B"
      }
    },
    {
      "cell_type": "markdown",
      "metadata": {
        "id": "ng3eHLBz7Jvg"
      },
      "source": [
        "#EDA"
      ]
    },
    {
      "cell_type": "markdown",
      "metadata": {
        "id": "6LS3nJxyAqbl"
      },
      "source": [
        "#Salary"
      ]
    },
    {
      "cell_type": "markdown",
      "metadata": {
        "id": "B4jpi3cSAsct"
      },
      "source": [
        "the data set contains salary information from multiple companies and a possible explanation for lower outliers it's they are from countries were these positions are pay less than in others."
      ]
    },
    {
      "cell_type": "code",
      "execution_count": 25,
      "metadata": {
        "id": "rrKWH-T17KaR"
      },
      "outputs": [],
      "source": [
        "sns.set(style='whitegrid', context='notebook')"
      ]
    },
    {
      "cell_type": "code",
      "execution_count": 26,
      "metadata": {
        "colab": {
          "base_uri": "https://localhost:8080/",
          "height": 470
        },
        "id": "ZULIt3iP7TxV",
        "outputId": "a9bcd45c-1088-44e4-ffd0-683fde0fa7f8"
      },
      "outputs": [
        {
          "output_type": "stream",
          "name": "stdout",
          "text": [
            "(6704, 6)\n"
          ]
        },
        {
          "output_type": "execute_result",
          "data": {
            "text/plain": [
              "<Axes: >"
            ]
          },
          "metadata": {},
          "execution_count": 26
        },
        {
          "output_type": "display_data",
          "data": {
            "text/plain": [
              "<Figure size 640x480 with 1 Axes>"
            ],
            "image/png": "[encoded data removed]"
          },
          "metadata": {}
        }
      ],
      "source": [
        "print(df.shape)\n",
        "df.Salary.hist(bins = 40)"
      ]
    },
    {
      "cell_type": "markdown",
      "source": [
        "salary biases"
      ],
      "metadata": {
        "id": "QocwWzyt2fbR"
      }
    },
    {
      "cell_type": "code",
      "source": [
        "from scipy.stats import skew\n"
      ],
      "metadata": {
        "id": "529iDA7m2FOu"
      },
      "execution_count": 76,
      "outputs": []
    },
    {
      "cell_type": "code",
      "source": [
        "skewness = skew(df['Salary'])\n",
        "print(f'Sesgo de los salarios: {skewness}')"
      ],
      "metadata": {
        "colab": {
          "base_uri": "https://localhost:8080/"
        },
        "id": "53YFrd1A2GPg",
        "outputId": "32d2870e-1a91-4a89-9ad1-1948ae7e1686"
      },
      "execution_count": 77,
      "outputs": [
        {
          "output_type": "stream",
          "name": "stdout",
          "text": [
            "Sesgo de los salarios: 0.05857833505188359\n"
          ]
        }
      ]
    },
    {
      "cell_type": "markdown",
      "metadata": {
        "id": "lNsNoqWp8hf4"
      },
      "source": [
        "Outliers"
      ]
    },
    {
      "cell_type": "code",
      "source": [
        "plt.figure(figsize=(10, 6))\n",
        "sns.boxplot(x=df['Salary'])\n",
        "plt.title('Boxplot de Salarios')\n",
        "plt.xlabel('Salary')\n",
        "plt.show()"
      ],
      "metadata": {
        "colab": {
          "base_uri": "https://localhost:8080/",
          "height": 592
        },
        "id": "ivpoCsGw2YOG",
        "outputId": "dd4dd0c0-0253-4a78-93ab-62bd41b6d656"
      },
      "execution_count": 78,
      "outputs": [
        {
          "output_type": "display_data",
          "data": {
            "text/plain": [
              "<Figure size 1000x600 with 1 Axes>"
            ],
            "image/png": "[encoded data removed]"
          },
          "metadata": {}
        }
      ]
    },
    {
      "cell_type": "markdown",
      "source": [
        "Exploring salaries ranges:"
      ],
      "metadata": {
        "id": "ZNCSERO124v4"
      }
    },
    {
      "cell_type": "markdown",
      "source": [
        "Even though there are no outliers, I want to explore why there are some salaries higher and lower at the end and beginning of the histogram."
      ],
      "metadata": {
        "id": "_F2IgHmC27tD"
      }
    },
    {
      "cell_type": "code",
      "execution_count": 28,
      "metadata": {
        "id": "7DhPeiTG9dCR"
      },
      "outputs": [],
      "source": [
        "low_salaries= df[(df['Salary'] >= 0) & (df['Salary'] <= 5000)]"
      ]
    },
    {
      "cell_type": "code",
      "execution_count": 29,
      "metadata": {
        "colab": {
          "base_uri": "https://localhost:8080/"
        },
        "id": "9l5TqYmW9nMi",
        "outputId": "96a82b5c-a09d-41dc-fc44-eedb25ca7677"
      },
      "outputs": [
        {
          "output_type": "stream",
          "name": "stdout",
          "text": [
            "Salarios entre 0 y 5000:\n",
            "                               Job Title  Salary\n",
            "259   Junior Business Operations Analyst   350.0\n",
            "1890                 Front end Developer   550.0\n",
            "2654           Software Engineer Manager   579.0\n",
            "4633               Junior HR Coordinator   500.0\n"
          ]
        }
      ],
      "source": [
        "print(\"Salarios entre 0 y 5000:\")\n",
        "print(low_salaries[['Job Title', 'Salary']])"
      ]
    },
    {
      "cell_type": "markdown",
      "source": [
        "*it's pretty weird that a Software Engineer Manager eran less than just a Software Engineer as we are gonna see next"
      ],
      "metadata": {
        "id": "ka-1CpOd3iZI"
      }
    },
    {
      "cell_type": "code",
      "execution_count": 30,
      "metadata": {
        "id": "J3PvJfOq9fm3"
      },
      "outputs": [],
      "source": [
        "high_salaries= df[(df['Salary'] >= 18000) & (df['Salary'] <= 250000)]"
      ]
    },
    {
      "cell_type": "code",
      "execution_count": 31,
      "metadata": {
        "colab": {
          "base_uri": "https://localhost:8080/"
        },
        "id": "lqXkNPNM9kU3",
        "outputId": "1087f7d4-f298-4d10-a57a-c0652487f7d5"
      },
      "outputs": [
        {
          "output_type": "stream",
          "name": "stdout",
          "text": [
            "\n",
            "Salarios entre 18000 y 250000:\n",
            "                  Job Title    Salary\n",
            "0         Software Engineer   90000.0\n",
            "1              Data Analyst   65000.0\n",
            "2            Senior Manager  150000.0\n",
            "3           Sales Associate   60000.0\n",
            "4                  Director  200000.0\n",
            "...                     ...       ...\n",
            "6699  Director of Marketing  200000.0\n",
            "6700        Sales Associate   50000.0\n",
            "6701      Financial Manager   55000.0\n",
            "6702      Marketing Manager  140000.0\n",
            "6703        Sales Executive   35000.0\n",
            "\n",
            "[6700 rows x 2 columns]\n"
          ]
        }
      ],
      "source": [
        "print(\"\\nSalarios entre 18000 y 250000:\")\n",
        "print(high_salaries[['Job Title', 'Salary']])"
      ]
    },
    {
      "cell_type": "code",
      "execution_count": 32,
      "metadata": {
        "id": "nxxZhRQZ_d_N"
      },
      "outputs": [],
      "source": [
        "software_engineer_manager = df[df['Job Title'] == 'Software Engineer Manager']"
      ]
    },
    {
      "cell_type": "code",
      "execution_count": 33,
      "metadata": {
        "colab": {
          "base_uri": "https://localhost:8080/"
        },
        "id": "v6qlm6Mp_hb4",
        "outputId": "963583df-df38-4e54-d821-11504f653909"
      },
      "outputs": [
        {
          "output_type": "stream",
          "name": "stdout",
          "text": [
            "Registros de Software Engineer Manager:\n",
            "                      Job Title    Salary\n",
            "1202  Software Engineer Manager  190000.0\n",
            "1211  Software Engineer Manager  200000.0\n",
            "1214  Software Engineer Manager  195000.0\n",
            "1220  Software Engineer Manager  190000.0\n",
            "1223  Software Engineer Manager  195000.0\n",
            "...                         ...       ...\n",
            "3108  Software Engineer Manager  154990.0\n",
            "3112  Software Engineer Manager  192211.0\n",
            "3120  Software Engineer Manager  182013.0\n",
            "3123  Software Engineer Manager  183530.0\n",
            "3132  Software Engineer Manager  151310.0\n",
            "\n",
            "[376 rows x 2 columns]\n"
          ]
        }
      ],
      "source": [
        "print(\"Registros de Software Engineer Manager:\")\n",
        "print(software_engineer_manager[['Job Title', 'Salary']])"
      ]
    },
    {
      "cell_type": "markdown",
      "metadata": {
        "id": "f4b-R_iQAFWK"
      },
      "source": [
        "Low_salaries imputation"
      ]
    },
    {
      "cell_type": "markdown",
      "source": [
        "I didn't want to deal later with problem of having some low numbers outside the mode or median, so as they were a few i decided better to replace them by the mean than delete or leave it like that"
      ],
      "metadata": {
        "id": "2aztXVKX34Le"
      }
    },
    {
      "cell_type": "code",
      "execution_count": 34,
      "metadata": {
        "id": "j6k1iGkNAHWW"
      },
      "outputs": [],
      "source": [
        "mean_by_job_title = df.groupby('Job Title')['Salary'].mean()\n"
      ]
    },
    {
      "cell_type": "code",
      "execution_count": 35,
      "metadata": {
        "id": "kUNtM3IVAKl_"
      },
      "outputs": [],
      "source": [
        "for index, row in df.iterrows():\n",
        "    if row['Salary'] < 3000:\n",
        "        df.at[index, 'Salary'] = mean_by_job_title[row['Job Title']]"
      ]
    },
    {
      "cell_type": "markdown",
      "source": [
        "* i want to check waht's like after the imputation"
      ],
      "metadata": {
        "id": "9jNx3rmH4b52"
      }
    },
    {
      "cell_type": "code",
      "execution_count": 36,
      "metadata": {
        "colab": {
          "base_uri": "https://localhost:8080/",
          "height": 472
        },
        "id": "Z8Dsc0STBteD",
        "outputId": "45bb5c5d-585c-4cb7-ccdd-2031b4dd3d91"
      },
      "outputs": [
        {
          "output_type": "stream",
          "name": "stdout",
          "text": [
            "(6704, 6)\n"
          ]
        },
        {
          "output_type": "execute_result",
          "data": {
            "text/plain": [
              "<Axes: >"
            ]
          },
          "metadata": {},
          "execution_count": 36
        },
        {
          "output_type": "display_data",
          "data": {
            "text/plain": [
              "<Figure size 640x480 with 1 Axes>"
            ],
            "image/png": "[encoded data removed]"
          },
          "metadata": {}
        }
      ],
      "source": [
        "print(df.shape)\n",
        "df.Salary.hist(bins = 40)"
      ]
    },
    {
      "cell_type": "code",
      "source": [
        "from scipy.stats import skew\n"
      ],
      "metadata": {
        "id": "bEiuWEr3Q9al"
      },
      "execution_count": 37,
      "outputs": []
    },
    {
      "cell_type": "code",
      "source": [
        "skewness = skew(df['Salary'])\n",
        "print(f'Sesgo de los salarios: {skewness}')"
      ],
      "metadata": {
        "colab": {
          "base_uri": "https://localhost:8080/"
        },
        "id": "CZfM037kQ53A",
        "outputId": "c7ba93c1-a717-4b32-f0e9-5bc5bac94573"
      },
      "execution_count": 38,
      "outputs": [
        {
          "output_type": "stream",
          "name": "stdout",
          "text": [
            "Sesgo de los salarios: 0.06003149757484613\n"
          ]
        }
      ]
    },
    {
      "cell_type": "code",
      "source": [
        "plt.figure(figsize=(10, 6))\n",
        "sns.boxplot(x=df['Salary'])\n",
        "plt.title('Boxplot de Salarios')\n",
        "plt.xlabel('Salary')\n",
        "plt.show()"
      ],
      "metadata": {
        "colab": {
          "base_uri": "https://localhost:8080/",
          "height": 573
        },
        "id": "ao__ud52REre",
        "outputId": "2765498f-8f9d-4cd5-9afb-b47fb541e601"
      },
      "execution_count": 39,
      "outputs": [
        {
          "output_type": "display_data",
          "data": {
            "text/plain": [
              "<Figure size 1000x600 with 1 Axes>"
            ],
            "image/png": "[encoded data removed]"
          },
          "metadata": {}
        }
      ]
    },
    {
      "cell_type": "markdown",
      "source": [
        "Exploring high salaries"
      ],
      "metadata": {
        "id": "AG2o09OW4hPb"
      }
    },
    {
      "cell_type": "code",
      "execution_count": 40,
      "metadata": {
        "id": "T32K7agWCNsT"
      },
      "outputs": [],
      "source": [
        "high_salary_df = df[df['Salary'] >= 250000]\n"
      ]
    },
    {
      "cell_type": "code",
      "execution_count": 41,
      "metadata": {
        "colab": {
          "base_uri": "https://localhost:8080/"
        },
        "id": "OdZeZ1swCQb4",
        "outputId": "5c269dfe-a766-4f23-fb90-698c72a2b6ca"
      },
      "outputs": [
        {
          "output_type": "stream",
          "name": "stdout",
          "text": [
            "       Age  Gender    Education Level                 Job Title  \\\n",
            "30    50.0     1.0         Bachelor's                       CEO   \n",
            "83    52.0     1.0                PhD  Chief Technology Officer   \n",
            "5001  45.0     1.0  Bachelor's Degree         Financial Manager   \n",
            "\n",
            "      Years of Experience    Salary  \n",
            "30                   25.0  250000.0  \n",
            "83                   24.0  250000.0  \n",
            "5001                 21.0  250000.0  \n"
          ]
        }
      ],
      "source": [
        "print(high_salary_df)\n"
      ]
    },
    {
      "cell_type": "code",
      "execution_count": 42,
      "metadata": {
        "id": "7zFtkRNZCkwf"
      },
      "outputs": [],
      "source": [
        "titles_of_interest = ['CEO', 'Chief Technology Officer', 'Financial Manager']\n",
        "filtered_df = df[df['Job Title'].isin(titles_of_interest)]"
      ]
    },
    {
      "cell_type": "code",
      "execution_count": 43,
      "metadata": {
        "id": "oHrD9disCm1-"
      },
      "outputs": [],
      "source": [
        "counts = filtered_df['Job Title'].value_counts()\n"
      ]
    },
    {
      "cell_type": "code",
      "execution_count": 44,
      "metadata": {
        "colab": {
          "base_uri": "https://localhost:8080/"
        },
        "id": "5L72z579Cpmo",
        "outputId": "2e82b9f9-639e-4405-e625-2a8614d43daf"
      },
      "outputs": [
        {
          "output_type": "stream",
          "name": "stdout",
          "text": [
            "Conteo de Títulos de Trabajo:\n",
            "Job Title\n",
            "Financial Manager           134\n",
            "CEO                           1\n",
            "Chief Technology Officer      1\n",
            "Name: count, dtype: int64\n"
          ]
        }
      ],
      "source": [
        "print(\"Conteo de Títulos de Trabajo:\")\n",
        "print(counts)"
      ]
    },
    {
      "cell_type": "markdown",
      "source": [
        "As you can see in here, the only weird salary it's for the financial manager"
      ],
      "metadata": {
        "id": "JwuLpdka4q7y"
      }
    },
    {
      "cell_type": "code",
      "execution_count": 45,
      "metadata": {
        "id": "1bXi2_7WCvUj"
      },
      "outputs": [],
      "source": [
        "salary_avg = filtered_df.groupby('Job Title')['Salary'].mean()\n"
      ]
    },
    {
      "cell_type": "code",
      "execution_count": 46,
      "metadata": {
        "colab": {
          "base_uri": "https://localhost:8080/"
        },
        "id": "4OYaN8wEC0_m",
        "outputId": "f4bf1b19-468f-4e77-d2c9-446d6fa0ec3c"
      },
      "outputs": [
        {
          "output_type": "stream",
          "name": "stdout",
          "text": [
            "\n",
            "Salario Promedio por Título de Trabajo:\n",
            "Job Title\n",
            "CEO                         250000.000000\n",
            "Chief Technology Officer    250000.000000\n",
            "Financial Manager           143059.701493\n",
            "Name: Salary, dtype: float64\n"
          ]
        }
      ],
      "source": [
        "print(\"\\nSalario Promedio por Título de Trabajo:\")\n",
        "print(salary_avg)"
      ]
    },
    {
      "cell_type": "code",
      "execution_count": 47,
      "metadata": {
        "id": "7LYvUgWcDYyF"
      },
      "outputs": [],
      "source": [
        "salary_mode = df[df['Job Title'] != 'Financial Manager']['Salary'].mode()[0]\n"
      ]
    },
    {
      "cell_type": "code",
      "execution_count": 48,
      "metadata": {
        "id": "9fgdHSx_Di9Y"
      },
      "outputs": [],
      "source": [
        "df.loc[(df['Job Title'] == 'Financial Manager') & (df['Salary'] == 250000), 'Salary'] = salary_mode\n"
      ]
    },
    {
      "cell_type": "markdown",
      "source": [
        "So just to make sure i decided to switch for the mode"
      ],
      "metadata": {
        "id": "lo4TV-1v40s3"
      }
    },
    {
      "cell_type": "code",
      "execution_count": 49,
      "metadata": {
        "colab": {
          "base_uri": "https://localhost:8080/"
        },
        "id": "WT4rP-RkDzKY",
        "outputId": "8eeff830-f6dc-4cc1-e869-0f0921649c7e"
      },
      "outputs": [
        {
          "output_type": "stream",
          "name": "stdout",
          "text": [
            "Registro actualizado del Financial Manager:\n",
            "       Age  Gender    Education Level          Job Title  Years of Experience  \\\n",
            "24    41.0     1.0           Master's  Financial Manager                 13.0   \n",
            "4887  30.0     1.0    Master's Degree  Financial Manager                  7.0   \n",
            "4900  30.0     1.0    Master's Degree  Financial Manager                  7.0   \n",
            "4913  30.0     1.0    Master's Degree  Financial Manager                  7.0   \n",
            "4926  30.0     1.0    Master's Degree  Financial Manager                  7.0   \n",
            "...    ...     ...                ...                ...                  ...   \n",
            "6645  30.0     0.0  Bachelor's Degree  Financial Manager                  4.0   \n",
            "6662  42.0     1.0  Bachelor's Degree  Financial Manager                 13.0   \n",
            "6673  30.0     0.0  Bachelor's Degree  Financial Manager                  4.0   \n",
            "6690  42.0     1.0  Bachelor's Degree  Financial Manager                 13.0   \n",
            "6701  30.0     0.0  Bachelor's Degree  Financial Manager                  4.0   \n",
            "\n",
            "        Salary  \n",
            "24    140000.0  \n",
            "4887  120000.0  \n",
            "4900  120000.0  \n",
            "4913  120000.0  \n",
            "4926  120000.0  \n",
            "...        ...  \n",
            "6645   55000.0  \n",
            "6662  130000.0  \n",
            "6673   55000.0  \n",
            "6690  130000.0  \n",
            "6701   55000.0  \n",
            "\n",
            "[134 rows x 6 columns]\n"
          ]
        }
      ],
      "source": [
        "updated_financial_manager = df[df['Job Title'] == 'Financial Manager']\n",
        "print(\"Registro actualizado del Financial Manager:\")\n",
        "print(updated_financial_manager)"
      ]
    },
    {
      "cell_type": "code",
      "execution_count": 50,
      "metadata": {
        "colab": {
          "base_uri": "https://localhost:8080/"
        },
        "id": "McfHlN5_D7az",
        "outputId": "b93b7d68-5296-4cea-ac47-461913c38be3"
      },
      "outputs": [
        {
          "output_type": "stream",
          "name": "stdout",
          "text": [
            "\n",
            "Salario Promedio por Título de Trabajo:\n",
            "Job Title\n",
            "CEO                         250000.000000\n",
            "Chief Technology Officer    250000.000000\n",
            "Financial Manager           143059.701493\n",
            "Name: Salary, dtype: float64\n"
          ]
        }
      ],
      "source": [
        "print(\"\\nSalario Promedio por Título de Trabajo:\")\n",
        "print(salary_avg)"
      ]
    },
    {
      "cell_type": "markdown",
      "source": [
        "#Analyzing correlation"
      ],
      "metadata": {
        "id": "8kd5mUyh6P5K"
      }
    },
    {
      "cell_type": "code",
      "execution_count": 51,
      "metadata": {
        "colab": {
          "base_uri": "https://localhost:8080/",
          "height": 1000
        },
        "id": "r_nJb04fEE8P",
        "outputId": "f1a15af0-a6a2-4248-e522-0241d21e5224"
      },
      "outputs": [
        {
          "output_type": "display_data",
          "data": {
            "text/plain": [
              "<Figure size 1000x1000 with 20 Axes>"
            ],
            "image/png": "[encoded data removed]"
          },
          "metadata": {}
        }
      ],
      "source": [
        "sns.pairplot(df, height=2.5)\n",
        "plt.show()"
      ]
    },
    {
      "cell_type": "code",
      "execution_count": 52,
      "metadata": {
        "colab": {
          "base_uri": "https://localhost:8080/",
          "height": 670
        },
        "id": "EdcIJIabEzML",
        "outputId": "fe672ee8-4cf2-40df-e2f5-8bc84ab311a6"
      },
      "outputs": [
        {
          "output_type": "execute_result",
          "data": {
            "text/plain": [
              "<Axes: >"
            ]
          },
          "metadata": {},
          "execution_count": 52
        },
        {
          "output_type": "display_data",
          "data": {
            "text/plain": [
              "<Figure size 640x480 with 2 Axes>"
            ],
            "image/png": "[encoded data removed]"
          },
          "metadata": {}
        }
      ],
      "source": [
        "numeric_cols = ['Age', 'Gender', 'Years of Experience', 'Salary']\n",
        "cm = np.corrcoef(df[numeric_cols].values.T)\n",
        "sns.set(font_scale=1.5)\n",
        "sns.heatmap(cm,annot=True, yticklabels=numeric_cols,xticklabels=numeric_cols)"
      ]
    },
    {
      "cell_type": "code",
      "execution_count": 53,
      "metadata": {
        "colab": {
          "base_uri": "https://localhost:8080/",
          "height": 206
        },
        "id": "eRVpXIZuFkay",
        "outputId": "3df62e3b-cd7c-4338-de5d-8ff93206a53c"
      },
      "outputs": [
        {
          "output_type": "execute_result",
          "data": {
            "text/plain": [
              "    Age  Gender Education Level          Job Title  Years of Experience  \\\n",
              "0  32.0     1.0      Bachelor's  Software Engineer                  5.0   \n",
              "1  28.0     0.0        Master's       Data Analyst                  3.0   \n",
              "2  45.0     1.0             PhD     Senior Manager                 15.0   \n",
              "3  36.0     0.0      Bachelor's    Sales Associate                  7.0   \n",
              "4  52.0     1.0        Master's           Director                 20.0   \n",
              "\n",
              "     Salary  \n",
              "0   90000.0  \n",
              "1   65000.0  \n",
              "2  150000.0  \n",
              "3   60000.0  \n",
              "4  200000.0  "
            ],
            "text/html": [
              "\n",
              "  <div id=\"df-2fd64eb8-249b-443e-8115-4bc75ff57683\" class=\"colab-df-container\">\n",
              "    <div>\n",
              "<style scoped>\n",
              "    .dataframe tbody tr th:only-of-type {\n",
              "        vertical-align: middle;\n",
              "    }\n",
              "\n",
              "    .dataframe tbody tr th {\n",
              "        vertical-align: top;\n",
              "    }\n",
              "\n",
              "    .dataframe thead th {\n",
              "        text-align: right;\n",
              "    }\n",
              "</style>\n",
              "<table border=\"1\" class=\"dataframe\">\n",
              "  <thead>\n",
              "    <tr style=\"text-align: right;\">\n",
              "      <th></th>\n",
              "      <th>Age</th>\n",
              "      <th>Gender</th>\n",
              "      <th>Education Level</th>\n",
              "      <th>Job Title</th>\n",
              "      <th>Years of Experience</th>\n",
              "      <th>Salary</th>\n",
              "    </tr>\n",
              "  </thead>\n",
              "  <tbody>\n",
              "    <tr>\n",
              "      <th>0</th>\n",
              "      <td>32.0</td>\n",
              "      <td>1.0</td>\n",
              "      <td>Bachelor's</td>\n",
              "      <td>Software Engineer</td>\n",
              "      <td>5.0</td>\n",
              "      <td>90000.0</td>\n",
              "    </tr>\n",
              "    <tr>\n",
              "      <th>1</th>\n",
              "      <td>28.0</td>\n",
              "      <td>0.0</td>\n",
              "      <td>Master's</td>\n",
              "      <td>Data Analyst</td>\n",
              "      <td>3.0</td>\n",
              "      <td>65000.0</td>\n",
              "    </tr>\n",
              "    <tr>\n",
              "      <th>2</th>\n",
              "      <td>45.0</td>\n",
              "      <td>1.0</td>\n",
              "      <td>PhD</td>\n",
              "      <td>Senior Manager</td>\n",
              "      <td>15.0</td>\n",
              "      <td>150000.0</td>\n",
              "    </tr>\n",
              "    <tr>\n",
              "      <th>3</th>\n",
              "      <td>36.0</td>\n",
              "      <td>0.0</td>\n",
              "      <td>Bachelor's</td>\n",
              "      <td>Sales Associate</td>\n",
              "      <td>7.0</td>\n",
              "      <td>60000.0</td>\n",
              "    </tr>\n",
              "    <tr>\n",
              "      <th>4</th>\n",
              "      <td>52.0</td>\n",
              "      <td>1.0</td>\n",
              "      <td>Master's</td>\n",
              "      <td>Director</td>\n",
              "      <td>20.0</td>\n",
              "      <td>200000.0</td>\n",
              "    </tr>\n",
              "  </tbody>\n",
              "</table>\n",
              "</div>\n",
              "    <div class=\"colab-df-buttons\">\n",
              "\n",
              "  <div class=\"colab-df-container\">\n",
              "    <button class=\"colab-df-convert\" onclick=\"convertToInteractive('df-2fd64eb8-249b-443e-8115-4bc75ff57683')\"\n",
              "            title=\"Convert this dataframe to an interactive table.\"\n",
              "            style=\"display:none;\">\n",
              "\n",
              "  <svg xmlns=\"http://www.w3.org/2000/svg\" height=\"24px\" viewBox=\"0 -960 960 960\">\n",
              "    <path d=\"M120-120v-720h720v720H120Zm60-500h600v-160H180v160Zm220 220h160v-160H400v160Zm0 220h160v-160H400v160ZM180-400h160v-160H180v160Zm440 0h160v-160H620v160ZM180-180h160v-160H180v160Zm440 0h160v-160H620v160Z\"/>\n",
              "  </svg>\n",
              "    </button>\n",
              "\n",
              "  <style>\n",
              "    .colab-df-container {\n",
              "      display:flex;\n",
              "      gap: 12px;\n",
              "    }\n",
              "\n",
              "    .colab-df-convert {\n",
              "      background-color: #E8F0FE;\n",
              "      border: none;\n",
              "      border-radius: 50%;\n",
              "      cursor: pointer;\n",
              "      display: none;\n",
              "      fill: #1967D2;\n",
              "      height: 32px;\n",
              "      padding: 0 0 0 0;\n",
              "      width: 32px;\n",
              "    }\n",
              "\n",
              "    .colab-df-convert:hover {\n",
              "      background-color: #E2EBFA;\n",
              "      box-shadow: 0px 1px 2px rgba(60, 64, 67, 0.3), 0px 1px 3px 1px rgba(60, 64, 67, 0.15);\n",
              "      fill: #174EA6;\n",
              "    }\n",
              "\n",
              "    .colab-df-buttons div {\n",
              "      margin-bottom: 4px;\n",
              "    }\n",
              "\n",
              "    [theme=dark] .colab-df-convert {\n",
              "      background-color: #3B4455;\n",
              "      fill: #D2E3FC;\n",
              "    }\n",
              "\n",
              "    [theme=dark] .colab-df-convert:hover {\n",
              "      background-color: #434B5C;\n",
              "      box-shadow: 0px 1px 3px 1px rgba(0, 0, 0, 0.15);\n",
              "      filter: drop-shadow(0px 1px 2px rgba(0, 0, 0, 0.3));\n",
              "      fill: #FFFFFF;\n",
              "    }\n",
              "  </style>\n",
              "\n",
              "    <script>\n",
              "      const buttonEl =\n",
              "        document.querySelector('#df-2fd64eb8-249b-443e-8115-4bc75ff57683 button.colab-df-convert');\n",
              "      buttonEl.style.display =\n",
              "        google.colab.kernel.accessAllowed ? 'block' : 'none';\n",
              "\n",
              "      async function convertToInteractive(key) {\n",
              "        const element = document.querySelector('#df-2fd64eb8-249b-443e-8115-4bc75ff57683');\n",
              "        const dataTable =\n",
              "          await google.colab.kernel.invokeFunction('convertToInteractive',\n",
              "                                                    [key], {});\n",
              "        if (!dataTable) return;\n",
              "\n",
              "        const docLinkHtml = 'Like what you see? Visit the ' +\n",
              "          '<a target=\"_blank\" href=https://colab.research.google.com/notebooks/data_table.ipynb>data table notebook</a>'\n",
              "          + ' to learn more about interactive tables.';\n",
              "        element.innerHTML = '';\n",
              "        dataTable['output_type'] = 'display_data';\n",
              "        await google.colab.output.renderOutput(dataTable, element);\n",
              "        const docLink = document.createElement('div');\n",
              "        docLink.innerHTML = docLinkHtml;\n",
              "        element.appendChild(docLink);\n",
              "      }\n",
              "    </script>\n",
              "  </div>\n",
              "\n",
              "\n",
              "<div id=\"df-02304e2d-13f7-43ac-a17a-8a06b95c7b41\">\n",
              "  <button class=\"colab-df-quickchart\" onclick=\"quickchart('df-02304e2d-13f7-43ac-a17a-8a06b95c7b41')\"\n",
              "            title=\"Suggest charts\"\n",
              "            style=\"display:none;\">\n",
              "\n",
              "<svg xmlns=\"http://www.w3.org/2000/svg\" height=\"24px\"viewBox=\"0 0 24 24\"\n",
              "     width=\"24px\">\n",
              "    <g>\n",
              "        <path d=\"M19 3H5c-1.1 0-2 .9-2 2v14c0 1.1.9 2 2 2h14c1.1 0 2-.9 2-2V5c0-1.1-.9-2-2-2zM9 17H7v-7h2v7zm4 0h-2V7h2v10zm4 0h-2v-4h2v4z\"/>\n",
              "    </g>\n",
              "</svg>\n",
              "  </button>\n",
              "\n",
              "<style>\n",
              "  .colab-df-quickchart {\n",
              "      --bg-color: #E8F0FE;\n",
              "      --fill-color: #1967D2;\n",
              "      --hover-bg-color: #E2EBFA;\n",
              "      --hover-fill-color: #174EA6;\n",
              "      --disabled-fill-color: #AAA;\n",
              "      --disabled-bg-color: #DDD;\n",
              "  }\n",
              "\n",
              "  [theme=dark] .colab-df-quickchart {\n",
              "      --bg-color: #3B4455;\n",
              "      --fill-color: #D2E3FC;\n",
              "      --hover-bg-color: #434B5C;\n",
              "      --hover-fill-color: #FFFFFF;\n",
              "      --disabled-bg-color: #3B4455;\n",
              "      --disabled-fill-color: #666;\n",
              "  }\n",
              "\n",
              "  .colab-df-quickchart {\n",
              "    background-color: var(--bg-color);\n",
              "    border: none;\n",
              "    border-radius: 50%;\n",
              "    cursor: pointer;\n",
              "    display: none;\n",
              "    fill: var(--fill-color);\n",
              "    height: 32px;\n",
              "    padding: 0;\n",
              "    width: 32px;\n",
              "  }\n",
              "\n",
              "  .colab-df-quickchart:hover {\n",
              "    background-color: var(--hover-bg-color);\n",
              "    box-shadow: 0 1px 2px rgba(60, 64, 67, 0.3), 0 1px 3px 1px rgba(60, 64, 67, 0.15);\n",
              "    fill: var(--button-hover-fill-color);\n",
              "  }\n",
              "\n",
              "  .colab-df-quickchart-complete:disabled,\n",
              "  .colab-df-quickchart-complete:disabled:hover {\n",
              "    background-color: var(--disabled-bg-color);\n",
              "    fill: var(--disabled-fill-color);\n",
              "    box-shadow: none;\n",
              "  }\n",
              "\n",
              "  .colab-df-spinner {\n",
              "    border: 2px solid var(--fill-color);\n",
              "    border-color: transparent;\n",
              "    border-bottom-color: var(--fill-color);\n",
              "    animation:\n",
              "      spin 1s steps(1) infinite;\n",
              "  }\n",
              "\n",
              "  @keyframes spin {\n",
              "    0% {\n",
              "      border-color: transparent;\n",
              "      border-bottom-color: var(--fill-color);\n",
              "      border-left-color: var(--fill-color);\n",
              "    }\n",
              "    20% {\n",
              "      border-color: transparent;\n",
              "      border-left-color: var(--fill-color);\n",
              "      border-top-color: var(--fill-color);\n",
              "    }\n",
              "    30% {\n",
              "      border-color: transparent;\n",
              "      border-left-color: var(--fill-color);\n",
              "      border-top-color: var(--fill-color);\n",
              "      border-right-color: var(--fill-color);\n",
              "    }\n",
              "    40% {\n",
              "      border-color: transparent;\n",
              "      border-right-color: var(--fill-color);\n",
              "      border-top-color: var(--fill-color);\n",
              "    }\n",
              "    60% {\n",
              "      border-color: transparent;\n",
              "      border-right-color: var(--fill-color);\n",
              "    }\n",
              "    80% {\n",
              "      border-color: transparent;\n",
              "      border-right-color: var(--fill-color);\n",
              "      border-bottom-color: var(--fill-color);\n",
              "    }\n",
              "    90% {\n",
              "      border-color: transparent;\n",
              "      border-bottom-color: var(--fill-color);\n",
              "    }\n",
              "  }\n",
              "</style>\n",
              "\n",
              "  <script>\n",
              "    async function quickchart(key) {\n",
              "      const quickchartButtonEl =\n",
              "        document.querySelector('#' + key + ' button');\n",
              "      quickchartButtonEl.disabled = true;  // To prevent multiple clicks.\n",
              "      quickchartButtonEl.classList.add('colab-df-spinner');\n",
              "      try {\n",
              "        const charts = await google.colab.kernel.invokeFunction(\n",
              "            'suggestCharts', [key], {});\n",
              "      } catch (error) {\n",
              "        console.error('Error during call to suggestCharts:', error);\n",
              "      }\n",
              "      quickchartButtonEl.classList.remove('colab-df-spinner');\n",
              "      quickchartButtonEl.classList.add('colab-df-quickchart-complete');\n",
              "    }\n",
              "    (() => {\n",
              "      let quickchartButtonEl =\n",
              "        document.querySelector('#df-02304e2d-13f7-43ac-a17a-8a06b95c7b41 button');\n",
              "      quickchartButtonEl.style.display =\n",
              "        google.colab.kernel.accessAllowed ? 'block' : 'none';\n",
              "    })();\n",
              "  </script>\n",
              "</div>\n",
              "\n",
              "    </div>\n",
              "  </div>\n"
            ],
            "application/vnd.google.colaboratory.intrinsic+json": {
              "type": "dataframe",
              "variable_name": "df",
              "summary": "{\n  \"name\": \"df\",\n  \"rows\": 6704,\n  \"fields\": [\n    {\n      \"column\": \"Age\",\n      \"properties\": {\n        \"dtype\": \"number\",\n        \"std\": 7.613496537826161,\n        \"min\": 21.0,\n        \"max\": 62.0,\n        \"num_unique_values\": 42,\n        \"samples\": [\n          43.0,\n          27.0,\n          26.0\n        ],\n        \"semantic_type\": \"\",\n        \"description\": \"\"\n      }\n    },\n    {\n      \"column\": \"Gender\",\n      \"properties\": {\n        \"dtype\": \"number\",\n        \"std\": 0.49703123020153417,\n        \"min\": 0.0,\n        \"max\": 1.0,\n        \"num_unique_values\": 4,\n        \"samples\": [\n          0.0,\n          0.6666666666666666,\n          1.0\n        ],\n        \"semantic_type\": \"\",\n        \"description\": \"\"\n      }\n    },\n    {\n      \"column\": \"Education Level\",\n      \"properties\": {\n        \"dtype\": \"category\",\n        \"num_unique_values\": 7,\n        \"samples\": [\n          \"Bachelor's\",\n          \"Master's\",\n          \"High School\"\n        ],\n        \"semantic_type\": \"\",\n        \"description\": \"\"\n      }\n    },\n    {\n      \"column\": \"Job Title\",\n      \"properties\": {\n        \"dtype\": \"category\",\n        \"num_unique_values\": 193,\n        \"samples\": [\n          \"Account Manager\",\n          \"Junior HR Coordinator\",\n          \"Senior Project Manager\"\n        ],\n        \"semantic_type\": \"\",\n        \"description\": \"\"\n      }\n    },\n    {\n      \"column\": \"Years of Experience\",\n      \"properties\": {\n        \"dtype\": \"number\",\n        \"std\": 6.0582379394843535,\n        \"min\": 0.0,\n        \"max\": 34.0,\n        \"num_unique_values\": 39,\n        \"samples\": [\n          27.0,\n          26.0,\n          20.0\n        ],\n        \"semantic_type\": \"\",\n        \"description\": \"\"\n      }\n    },\n    {\n      \"column\": \"Salary\",\n      \"properties\": {\n        \"dtype\": \"number\",\n        \"std\": 52705.796514103335,\n        \"min\": 17675.0,\n        \"max\": 250000.0,\n        \"num_unique_values\": 447,\n        \"samples\": [\n          174985.0,\n          135378.0,\n          142360.0\n        ],\n        \"semantic_type\": \"\",\n        \"description\": \"\"\n      }\n    }\n  ]\n}"
            }
          },
          "metadata": {},
          "execution_count": 53
        }
      ],
      "source": [
        "df.head()"
      ]
    },
    {
      "cell_type": "code",
      "execution_count": 54,
      "metadata": {
        "colab": {
          "base_uri": "https://localhost:8080/"
        },
        "id": "O7m4-8UbGSMI",
        "outputId": "63c318f2-e010-4989-d01a-08a1e53627da"
      },
      "outputs": [
        {
          "output_type": "stream",
          "name": "stdout",
          "text": [
            "<class 'pandas.core.frame.DataFrame'>\n",
            "RangeIndex: 6704 entries, 0 to 6703\n",
            "Data columns (total 6 columns):\n",
            " #   Column               Non-Null Count  Dtype  \n",
            "---  ------               --------------  -----  \n",
            " 0   Age                  6704 non-null   float64\n",
            " 1   Gender               6704 non-null   float64\n",
            " 2   Education Level      6704 non-null   object \n",
            " 3   Job Title            6704 non-null   object \n",
            " 4   Years of Experience  6704 non-null   float64\n",
            " 5   Salary               6704 non-null   float64\n",
            "dtypes: float64(4), object(2)\n",
            "memory usage: 314.4+ KB\n"
          ]
        }
      ],
      "source": [
        "df.info()"
      ]
    },
    {
      "cell_type": "code",
      "execution_count": 55,
      "metadata": {
        "colab": {
          "base_uri": "https://localhost:8080/"
        },
        "id": "6ClJ36oEGi1A",
        "outputId": "f31d0513-7763-4168-9a4f-25d2ebb09f3c"
      },
      "outputs": [
        {
          "output_type": "stream",
          "name": "stdout",
          "text": [
            "['Software Engineer' 'Data Analyst' 'Senior Manager' 'Sales Associate'\n",
            " 'Director' 'Marketing Analyst' 'Product Manager' 'Sales Manager'\n",
            " 'Marketing Coordinator' 'Senior Scientist' 'Software Developer'\n",
            " 'HR Manager' 'Financial Analyst' 'Project Manager' 'Customer Service Rep'\n",
            " 'Operations Manager' 'Marketing Manager' 'Senior Engineer'\n",
            " 'Data Entry Clerk' 'Sales Director' 'Business Analyst' 'VP of Operations'\n",
            " 'IT Support' 'Recruiter' 'Financial Manager' 'Social Media Specialist'\n",
            " 'Software Manager' 'Junior Developer' 'Senior Consultant'\n",
            " 'Product Designer' 'CEO' 'Accountant' 'Data Scientist'\n",
            " 'Marketing Specialist' 'Technical Writer' 'HR Generalist'\n",
            " 'Project Engineer' 'Customer Success Rep' 'Sales Executive' 'UX Designer'\n",
            " 'Operations Director' 'Network Engineer' 'Administrative Assistant'\n",
            " 'Strategy Consultant' 'Copywriter' 'Account Manager'\n",
            " 'Director of Marketing' 'Help Desk Analyst' 'Customer Service Manager'\n",
            " 'Business Intelligence Analyst' 'Event Coordinator' 'VP of Finance'\n",
            " 'Graphic Designer' 'UX Researcher' 'Social Media Manager'\n",
            " 'Director of Operations' 'Senior Data Scientist' 'Junior Accountant'\n",
            " 'Digital Marketing Manager' 'IT Manager'\n",
            " 'Customer Service Representative' 'Business Development Manager'\n",
            " 'Senior Financial Analyst' 'Web Developer' 'Research Director'\n",
            " 'Technical Support Specialist' 'Creative Director'\n",
            " 'Senior Software Engineer' 'Human Resources Director'\n",
            " 'Content Marketing Manager' 'Technical Recruiter' 'Sales Representative'\n",
            " 'Chief Technology Officer' 'Junior Designer' 'Financial Advisor'\n",
            " 'Junior Account Manager' 'Senior Project Manager' 'Principal Scientist'\n",
            " 'Supply Chain Manager' 'Senior Marketing Manager' 'Training Specialist'\n",
            " 'Research Scientist' 'Junior Software Developer'\n",
            " 'Public Relations Manager' 'Operations Analyst'\n",
            " 'Product Marketing Manager' 'Senior HR Manager' 'Junior Web Developer'\n",
            " 'Senior Project Coordinator' 'Chief Data Officer'\n",
            " 'Digital Content Producer' 'IT Support Specialist'\n",
            " 'Senior Marketing Analyst' 'Customer Success Manager'\n",
            " 'Senior Graphic Designer' 'Software Project Manager'\n",
            " 'Supply Chain Analyst' 'Senior Business Analyst'\n",
            " 'Junior Marketing Analyst' 'Office Manager' 'Principal Engineer'\n",
            " 'Junior HR Generalist' 'Senior Product Manager'\n",
            " 'Junior Operations Analyst' 'Senior HR Generalist'\n",
            " 'Sales Operations Manager' 'Senior Software Developer'\n",
            " 'Junior Web Designer' 'Senior Training Specialist'\n",
            " 'Senior Research Scientist' 'Junior Sales Representative'\n",
            " 'Junior Marketing Manager' 'Junior Data Analyst'\n",
            " 'Senior Product Marketing Manager' 'Junior Business Analyst'\n",
            " 'Senior Sales Manager' 'Junior Marketing Specialist'\n",
            " 'Junior Project Manager' 'Senior Accountant' 'Director of Sales'\n",
            " 'Junior Recruiter' 'Senior Business Development Manager'\n",
            " 'Senior Product Designer' 'Junior Customer Support Specialist'\n",
            " 'Senior IT Support Specialist' 'Junior Financial Analyst'\n",
            " 'Senior Operations Manager' 'Director of Human Resources'\n",
            " 'Junior Software Engineer' 'Senior Sales Representative'\n",
            " 'Director of Product Management' 'Junior Copywriter'\n",
            " 'Senior Marketing Coordinator' 'Senior Human Resources Manager'\n",
            " 'Junior Business Development Associate' 'Senior Account Manager'\n",
            " 'Senior Researcher' 'Junior HR Coordinator' 'Director of Finance'\n",
            " 'Junior Marketing Coordinator' 'Junior Data Scientist'\n",
            " 'Senior Operations Analyst' 'Senior Human Resources Coordinator'\n",
            " 'Senior UX Designer' 'Junior Product Manager'\n",
            " 'Senior Marketing Specialist' 'Senior IT Project Manager'\n",
            " 'Senior Quality Assurance Analyst' 'Director of Sales and Marketing'\n",
            " 'Senior Account Executive' 'Director of Business Development'\n",
            " 'Junior Social Media Manager' 'Senior Human Resources Specialist'\n",
            " 'Senior Data Analyst' 'Director of Human Capital'\n",
            " 'Junior Advertising Coordinator' 'Junior UX Designer'\n",
            " 'Senior Marketing Director' 'Senior IT Consultant'\n",
            " 'Senior Financial Advisor' 'Junior Business Operations Analyst'\n",
            " 'Junior Social Media Specialist' 'Senior Product Development Manager'\n",
            " 'Junior Operations Manager' 'Senior Software Architect'\n",
            " 'Junior Research Scientist' 'Senior Financial Manager'\n",
            " 'Senior HR Specialist' 'Senior Data Engineer'\n",
            " 'Junior Operations Coordinator' 'Director of HR'\n",
            " 'Senior Operations Coordinator' 'Junior Financial Advisor'\n",
            " 'Director of Engineering' 'Software Engineer Manager'\n",
            " 'Back end Developer' 'Senior Project Engineer' 'Full Stack Engineer'\n",
            " 'Front end Developer' 'Developer' 'Front End Developer'\n",
            " 'Director of Data Science' 'Human Resources Coordinator'\n",
            " 'Junior Sales Associate' 'Human Resources Manager'\n",
            " 'Juniour HR Generalist' 'Juniour HR Coordinator'\n",
            " 'Digital Marketing Specialist' 'Receptionist' 'Marketing Director'\n",
            " 'Social M' 'Social Media Man' 'Delivery Driver']\n",
            "[\"Bachelor's\" \"Master's\" 'PhD' \"Bachelor's Degree\" \"Master's Degree\"\n",
            " 'High School' 'phD']\n"
          ]
        }
      ],
      "source": [
        "print(df['Job Title'].unique())\n",
        "print(df['Education Level'].unique())"
      ]
    },
    {
      "cell_type": "code",
      "execution_count": 56,
      "metadata": {
        "id": "-U1Hb8yOGz0O"
      },
      "outputs": [],
      "source": [
        "df['Job Title'] = df['Job Title'].astype(str)\n",
        "df['Education Level'] = df['Education Level'].astype(str)"
      ]
    },
    {
      "cell_type": "markdown",
      "source": [
        "#Get_dummies for categoric variables"
      ],
      "metadata": {
        "id": "RsyFMFKs6bUn"
      }
    },
    {
      "cell_type": "code",
      "execution_count": 57,
      "metadata": {
        "id": "Ir5-TpV8G3n3"
      },
      "outputs": [],
      "source": [
        "df = pd.get_dummies(df, columns=['Job Title', 'Education Level'], drop_first=True)\n"
      ]
    },
    {
      "cell_type": "code",
      "execution_count": 58,
      "metadata": {
        "colab": {
          "base_uri": "https://localhost:8080/"
        },
        "id": "x8VzYGTdG6Bx",
        "outputId": "7ce93a9e-bd59-4e5c-9140-8dbdd46f5b0d"
      },
      "outputs": [
        {
          "output_type": "stream",
          "name": "stdout",
          "text": [
            "    Age  Gender  Years of Experience    Salary  Job Title_Accountant  \\\n",
            "0  32.0     1.0                  5.0   90000.0                 False   \n",
            "1  28.0     0.0                  3.0   65000.0                 False   \n",
            "2  45.0     1.0                 15.0  150000.0                 False   \n",
            "3  36.0     0.0                  7.0   60000.0                 False   \n",
            "4  52.0     1.0                 20.0  200000.0                 False   \n",
            "\n",
            "   Job Title_Administrative Assistant  Job Title_Back end Developer  \\\n",
            "0                               False                         False   \n",
            "1                               False                         False   \n",
            "2                               False                         False   \n",
            "3                               False                         False   \n",
            "4                               False                         False   \n",
            "\n",
            "   Job Title_Business Analyst  Job Title_Business Development Manager  \\\n",
            "0                       False                                   False   \n",
            "1                       False                                   False   \n",
            "2                       False                                   False   \n",
            "3                       False                                   False   \n",
            "4                       False                                   False   \n",
            "\n",
            "   Job Title_Business Intelligence Analyst  ...  Job Title_UX Researcher  \\\n",
            "0                                    False  ...                    False   \n",
            "1                                    False  ...                    False   \n",
            "2                                    False  ...                    False   \n",
            "3                                    False  ...                    False   \n",
            "4                                    False  ...                    False   \n",
            "\n",
            "   Job Title_VP of Finance  Job Title_VP of Operations  \\\n",
            "0                    False                       False   \n",
            "1                    False                       False   \n",
            "2                    False                       False   \n",
            "3                    False                       False   \n",
            "4                    False                       False   \n",
            "\n",
            "   Job Title_Web Developer  Education Level_Bachelor's Degree  \\\n",
            "0                    False                              False   \n",
            "1                    False                              False   \n",
            "2                    False                              False   \n",
            "3                    False                              False   \n",
            "4                    False                              False   \n",
            "\n",
            "   Education Level_High School  Education Level_Master's  \\\n",
            "0                        False                     False   \n",
            "1                        False                      True   \n",
            "2                        False                     False   \n",
            "3                        False                     False   \n",
            "4                        False                      True   \n",
            "\n",
            "   Education Level_Master's Degree  Education Level_PhD  Education Level_phD  \n",
            "0                            False                False                False  \n",
            "1                            False                False                False  \n",
            "2                            False                 True                False  \n",
            "3                            False                False                False  \n",
            "4                            False                False                False  \n",
            "\n",
            "[5 rows x 202 columns]\n"
          ]
        }
      ],
      "source": [
        "print(df.head())\n"
      ]
    },
    {
      "cell_type": "code",
      "execution_count": 59,
      "metadata": {
        "id": "wrK6-z3tHddP"
      },
      "outputs": [],
      "source": [
        "bool_columns = df.select_dtypes(include='bool').columns\n"
      ]
    },
    {
      "cell_type": "code",
      "execution_count": 60,
      "metadata": {
        "id": "Y9MA8fREHf0l"
      },
      "outputs": [],
      "source": [
        "df[bool_columns] = df[bool_columns].astype(int)\n"
      ]
    },
    {
      "cell_type": "code",
      "execution_count": 61,
      "metadata": {
        "colab": {
          "base_uri": "https://localhost:8080/"
        },
        "id": "XfNsaL9hHh1n",
        "outputId": "ab0fb8e7-af79-46b1-a7da-d180e7320433"
      },
      "outputs": [
        {
          "output_type": "stream",
          "name": "stdout",
          "text": [
            "\n",
            "DataFrame después de la conversión:\n",
            "       Age  Gender  Years of Experience    Salary  Job Title_Accountant  \\\n",
            "0     32.0     1.0                  5.0   90000.0                     0   \n",
            "1     28.0     0.0                  3.0   65000.0                     0   \n",
            "2     45.0     1.0                 15.0  150000.0                     0   \n",
            "3     36.0     0.0                  7.0   60000.0                     0   \n",
            "4     52.0     1.0                 20.0  200000.0                     0   \n",
            "...    ...     ...                  ...       ...                   ...   \n",
            "6699  49.0     0.0                 20.0  200000.0                     0   \n",
            "6700  32.0     1.0                  3.0   50000.0                     0   \n",
            "6701  30.0     0.0                  4.0   55000.0                     0   \n",
            "6702  46.0     1.0                 14.0  140000.0                     0   \n",
            "6703  26.0     0.0                  1.0   35000.0                     0   \n",
            "\n",
            "      Job Title_Administrative Assistant  Job Title_Back end Developer  \\\n",
            "0                                      0                             0   \n",
            "1                                      0                             0   \n",
            "2                                      0                             0   \n",
            "3                                      0                             0   \n",
            "4                                      0                             0   \n",
            "...                                  ...                           ...   \n",
            "6699                                   0                             0   \n",
            "6700                                   0                             0   \n",
            "6701                                   0                             0   \n",
            "6702                                   0                             0   \n",
            "6703                                   0                             0   \n",
            "\n",
            "      Job Title_Business Analyst  Job Title_Business Development Manager  \\\n",
            "0                              0                                       0   \n",
            "1                              0                                       0   \n",
            "2                              0                                       0   \n",
            "3                              0                                       0   \n",
            "4                              0                                       0   \n",
            "...                          ...                                     ...   \n",
            "6699                           0                                       0   \n",
            "6700                           0                                       0   \n",
            "6701                           0                                       0   \n",
            "6702                           0                                       0   \n",
            "6703                           0                                       0   \n",
            "\n",
            "      Job Title_Business Intelligence Analyst  ...  Job Title_UX Researcher  \\\n",
            "0                                           0  ...                        0   \n",
            "1                                           0  ...                        0   \n",
            "2                                           0  ...                        0   \n",
            "3                                           0  ...                        0   \n",
            "4                                           0  ...                        0   \n",
            "...                                       ...  ...                      ...   \n",
            "6699                                        0  ...                        0   \n",
            "6700                                        0  ...                        0   \n",
            "6701                                        0  ...                        0   \n",
            "6702                                        0  ...                        0   \n",
            "6703                                        0  ...                        0   \n",
            "\n",
            "      Job Title_VP of Finance  Job Title_VP of Operations  \\\n",
            "0                           0                           0   \n",
            "1                           0                           0   \n",
            "2                           0                           0   \n",
            "3                           0                           0   \n",
            "4                           0                           0   \n",
            "...                       ...                         ...   \n",
            "6699                        0                           0   \n",
            "6700                        0                           0   \n",
            "6701                        0                           0   \n",
            "6702                        0                           0   \n",
            "6703                        0                           0   \n",
            "\n",
            "      Job Title_Web Developer  Education Level_Bachelor's Degree  \\\n",
            "0                           0                                  0   \n",
            "1                           0                                  0   \n",
            "2                           0                                  0   \n",
            "3                           0                                  0   \n",
            "4                           0                                  0   \n",
            "...                       ...                                ...   \n",
            "6699                        0                                  0   \n",
            "6700                        0                                  0   \n",
            "6701                        0                                  1   \n",
            "6702                        0                                  0   \n",
            "6703                        0                                  0   \n",
            "\n",
            "      Education Level_High School  Education Level_Master's  \\\n",
            "0                               0                         0   \n",
            "1                               0                         1   \n",
            "2                               0                         0   \n",
            "3                               0                         0   \n",
            "4                               0                         1   \n",
            "...                           ...                       ...   \n",
            "6699                            0                         0   \n",
            "6700                            1                         0   \n",
            "6701                            0                         0   \n",
            "6702                            0                         0   \n",
            "6703                            1                         0   \n",
            "\n",
            "      Education Level_Master's Degree  Education Level_PhD  \\\n",
            "0                                   0                    0   \n",
            "1                                   0                    0   \n",
            "2                                   0                    1   \n",
            "3                                   0                    0   \n",
            "4                                   0                    0   \n",
            "...                               ...                  ...   \n",
            "6699                                0                    1   \n",
            "6700                                0                    0   \n",
            "6701                                0                    0   \n",
            "6702                                1                    0   \n",
            "6703                                0                    0   \n",
            "\n",
            "      Education Level_phD  \n",
            "0                       0  \n",
            "1                       0  \n",
            "2                       0  \n",
            "3                       0  \n",
            "4                       0  \n",
            "...                   ...  \n",
            "6699                    0  \n",
            "6700                    0  \n",
            "6701                    0  \n",
            "6702                    0  \n",
            "6703                    0  \n",
            "\n",
            "[6704 rows x 202 columns]\n"
          ]
        }
      ],
      "source": [
        "print(\"\\nDataFrame después de la conversión:\")\n",
        "print(df)"
      ]
    },
    {
      "cell_type": "code",
      "execution_count": 62,
      "metadata": {
        "id": "p_4cC6NqWC7h"
      },
      "outputs": [],
      "source": [
        "pd.set_option('display.max_rows', None)"
      ]
    },
    {
      "cell_type": "code",
      "execution_count": 63,
      "metadata": {
        "id": "YZzjV5wRWGGU"
      },
      "outputs": [],
      "source": [
        "pd.set_option('display.max_columns', None)"
      ]
    },
    {
      "cell_type": "code",
      "execution_count": 64,
      "metadata": {
        "colab": {
          "base_uri": "https://localhost:8080/"
        },
        "id": "or9wanrYUcaj",
        "outputId": "5b54c211-90b0-484d-9fe4-2d52742c9f22"
      },
      "outputs": [
        {
          "output_type": "stream",
          "name": "stdout",
          "text": [
            "Salary                                             1.000000\n",
            "Years of Experience                                0.808450\n",
            "Age                                                0.727489\n",
            "Education Level_PhD                                0.484856\n",
            "Job Title_Software Engineer Manager                0.266486\n",
            "Job Title_Data Scientist                           0.259291\n",
            "Job Title_Senior Project Engineer                  0.215441\n",
            "Education Level_Master's                           0.169891\n",
            "Job Title_Director of Data Science                 0.156765\n",
            "Job Title_Senior Software Engineer                 0.132693\n",
            "Job Title_Marketing Director                       0.127867\n",
            "Gender                                             0.127361\n",
            "Job Title_Product Manager                          0.113932\n",
            "Education Level_Master's Degree                    0.102347\n",
            "Job Title_Research Director                        0.096856\n",
            "Job Title_Research Scientist                       0.096785\n",
            "Job Title_Financial Manager                        0.072881\n",
            "Job Title_Senior Data Scientist                    0.065100\n",
            "Job Title_Director of Marketing                    0.049231\n",
            "Job Title_Full Stack Engineer                      0.047646\n",
            "Job Title_Data Analyst                             0.044251\n",
            "Job Title_Director of Operations                   0.044141\n",
            "Job Title_Senior Research Scientist                0.036821\n",
            "Job Title_Chief Technology Officer                 0.031208\n",
            "Job Title_CEO                                      0.031208\n",
            "Job Title_Chief Data Officer                       0.024255\n",
            "Job Title_Director of Human Resources              0.023652\n",
            "Job Title_Senior Product Marketing Manager         0.021769\n",
            "Job Title_Director of Engineering                  0.021193\n",
            "Job Title_Director                                 0.019620\n",
            "Job Title_VP of Finance                            0.019620\n",
            "Job Title_Director of Finance                      0.019554\n",
            "Job Title_Senior Data Engineer                     0.018386\n",
            "Job Title_VP of Operations                         0.017302\n",
            "Job Title_Operations Director                      0.017302\n",
            "Job Title_Senior Product Designer                  0.016928\n",
            "Job Title_Senior UX Designer                       0.015921\n",
            "Job Title_Senior Data Analyst                      0.015921\n",
            "Job Title_Content Marketing Manager                0.015542\n",
            "Job Title_Human Resources Director                 0.014985\n",
            "Job Title_Director of Human Capital                0.014985\n",
            "Job Title_Director of Sales and Marketing          0.014985\n",
            "Job Title_Sales Director                           0.014765\n",
            "Job Title_Senior Manager                           0.014638\n",
            "Job Title_Senior HR Manager                        0.013914\n",
            "Job Title_Director of Product Management           0.013826\n",
            "Job Title_Director of Sales                        0.013826\n",
            "Job Title_Director of HR                           0.012936\n",
            "Job Title_Principal Engineer                       0.012667\n",
            "Job Title_Director of Business Development         0.012667\n",
            "Job Title_Senior Marketing Director                0.010350\n",
            "Job Title_Senior Project Manager                   0.008553\n",
            "Job Title_Senior Marketing Manager                 0.008264\n",
            "Job Title_Senior Researcher                        0.008032\n",
            "Job Title_Marketing Manager                        0.006870\n",
            "Job Title_Senior Consultant                        0.005714\n",
            "Job Title_Senior HR Specialist                     0.005714\n",
            "Job Title_Senior Sales Manager                     0.005623\n",
            "Job Title_Project Manager                          0.004080\n",
            "Job Title_Senior Engineer                          0.003985\n",
            "Job Title_Senior Product Manager                   0.003591\n",
            "Job Title_Strategy Consultant                      0.003397\n",
            "Job Title_Supply Chain Analyst                     0.003397\n",
            "Job Title_Senior IT Project Manager                0.003397\n",
            "Job Title_Senior Scientist                         0.003208\n",
            "Job Title_Senior Software Developer                0.001200\n",
            "Job Title_Principal Scientist                      0.001079\n",
            "Job Title_IT Manager                               0.001079\n",
            "Job Title_Creative Director                        0.001079\n",
            "Job Title_Senior Human Resources Specialist        0.001079\n",
            "Job Title_Senior Software Architect                0.001079\n",
            "Education Level_phD                                0.001079\n",
            "Job Title_Senior Business Analyst                  0.000481\n",
            "Job Title_Project Engineer                        -0.000080\n",
            "Job Title_Operations Analyst                      -0.001239\n",
            "Job Title_Senior Graphic Designer                 -0.001239\n",
            "Job Title_Sales Operations Manager                -0.001239\n",
            "Job Title_Senior IT Support Specialist            -0.001239\n",
            "Job Title_Software Manager                        -0.001239\n",
            "Job Title_Senior Account Manager                  -0.001239\n",
            "Job Title_Senior Financial Analyst                -0.001526\n",
            "Job Title_HR Manager                              -0.001752\n",
            "Job Title_Senior IT Consultant                    -0.001752\n",
            "Job Title_Supply Chain Manager                    -0.002397\n",
            "Job Title_Senior Business Development Manager     -0.002478\n",
            "Job Title_Customer Service Manager                -0.003391\n",
            "Job Title_Senior Training Specialist              -0.003556\n",
            "Job Title_Developer                               -0.003556\n",
            "Job Title_Senior Quality Assurance Analyst        -0.003556\n",
            "Job Title_Social Media Man                        -0.003556\n",
            "Job Title_Senior Product Development Manager      -0.003556\n",
            "Job Title_Senior Operations Manager               -0.003807\n",
            "Job Title_Product Marketing Manager               -0.004715\n",
            "Job Title_Financial Advisor                       -0.004715\n",
            "Job Title_Software Project Manager                -0.004715\n",
            "Job Title_Senior Account Executive                -0.004715\n",
            "Job Title_Business Development Manager            -0.005874\n",
            "Job Title_Public Relations Manager                -0.005874\n",
            "Job Title_Senior Sales Representative             -0.006668\n",
            "Job Title_Business Intelligence Analyst           -0.007033\n",
            "Job Title_Senior Marketing Specialist             -0.007693\n",
            "Job Title_Senior Financial Manager                -0.007954\n",
            "Job Title_UX Designer                             -0.008191\n",
            "Job Title_Senior Human Resources Coordinator      -0.008191\n",
            "Job Title_Senior Operations Coordinator           -0.008273\n",
            "Job Title_Senior Marketing Coordinator            -0.008837\n",
            "Job Title_Senior Financial Advisor                -0.008837\n",
            "Job Title_Senior Human Resources Manager          -0.009282\n",
            "Job Title_Senior Accountant                       -0.009946\n",
            "Job Title_Senior Operations Analyst               -0.009946\n",
            "Job Title_Technical Recruiter                     -0.010509\n",
            "Job Title_Software Engineer                       -0.011514\n",
            "Job Title_Training Specialist                     -0.011668\n",
            "Job Title_Office Manager                          -0.011668\n",
            "Job Title_UX Researcher                           -0.011668\n",
            "Job Title_Marketing Specialist                    -0.011668\n",
            "Job Title_Junior Financial Advisor                -0.011668\n",
            "Job Title_Senior Project Coordinator              -0.012101\n",
            "Job Title_Business Analyst                        -0.012405\n",
            "Job Title_IT Support Specialist                   -0.012827\n",
            "Job Title_Network Engineer                        -0.012827\n",
            "Job Title_Accountant                              -0.013985\n",
            "Job Title_HR Generalist                           -0.014863\n",
            "Job Title_Digital Content Producer                -0.015144\n",
            "Job Title_IT Support                              -0.015144\n",
            "Job Title_Junior Research Scientist               -0.015144\n",
            "Job Title_Human Resources Manager                 -0.016210\n",
            "Job Title_Junior Web Designer                     -0.016303\n",
            "Job Title_Junior Social Media Manager             -0.016303\n",
            "Job Title_Junior Recruiter                        -0.016303\n",
            "Job Title_Junior Copywriter                       -0.016303\n",
            "Job Title_Social Media Specialist                 -0.016303\n",
            "Job Title_Technical Writer                        -0.016303\n",
            "Job Title_Junior Social Media Specialist          -0.016303\n",
            "Job Title_Junior Data Scientist                   -0.016303\n",
            "Job Title_Junior UX Designer                      -0.016303\n",
            "Job Title_Junior Advertising Coordinator          -0.016303\n",
            "Job Title_Recruiter                               -0.016502\n",
            "Job Title_Social M                                -0.016689\n",
            "Job Title_Junior Designer                         -0.017462\n",
            "Job Title_Customer Success Manager                -0.017462\n",
            "Job Title_Copywriter                              -0.017462\n",
            "Job Title_Customer Success Rep                    -0.017462\n",
            "Job Title_Technical Support Specialist            -0.017462\n",
            "Job Title_Junior Developer                        -0.017462\n",
            "Job Title_Customer Service Rep                    -0.017462\n",
            "Job Title_Junior Operations Coordinator           -0.017462\n",
            "Job Title_Senior Marketing Analyst                -0.018018\n",
            "Job Title_Help Desk Analyst                       -0.018621\n",
            "Job Title_Junior Customer Support Specialist      -0.018621\n",
            "Job Title_Data Entry Clerk                        -0.018621\n",
            "Job Title_Event Coordinator                       -0.020599\n",
            "Job Title_Administrative Assistant                -0.021419\n",
            "Job Title_Junior Account Manager                  -0.021419\n",
            "Job Title_Sales Manager                           -0.021590\n",
            "Job Title_Junior Operations Manager               -0.024227\n",
            "Job Title_Junior Marketing Analyst                -0.026903\n",
            "Job Title_Junior Product Manager                  -0.027397\n",
            "Job Title_Juniour HR Generalist                   -0.029045\n",
            "Job Title_Junior Business Operations Analyst      -0.029175\n",
            "Job Title_Junior Accountant                       -0.029580\n",
            "Job Title_Junior Marketing Specialist             -0.032318\n",
            "Job Title_Junior Operations Analyst               -0.033355\n",
            "Job Title_Juniour HR Coordinator                  -0.033461\n",
            "Job Title_Junior Project Manager                  -0.035429\n",
            "Job Title_Senior HR Generalist                    -0.036820\n",
            "Job Title_Digital Marketing Manager               -0.037033\n",
            "Job Title_Junior Financial Analyst                -0.038333\n",
            "Job Title_Junior Marketing Coordinator            -0.039002\n",
            "Job Title_Financial Analyst                       -0.040135\n",
            "Job Title_Junior Business Analyst                 -0.042856\n",
            "Job Title_Delivery Driver                         -0.045278\n",
            "Job Title_Junior Business Development Associate   -0.045782\n",
            "Job Title_Customer Service Representative         -0.046574\n",
            "Job Title_Digital Marketing Specialist            -0.046734\n",
            "Job Title_Back end Developer                      -0.047908\n",
            "Job Title_Operations Manager                      -0.048429\n",
            "Job Title_Front End Developer                     -0.049047\n",
            "Job Title_Social Media Manager                    -0.052379\n",
            "Job Title_Graphic Designer                        -0.071391\n",
            "Job Title_Junior Data Analyst                     -0.074278\n",
            "Job Title_Junior Marketing Manager                -0.086471\n",
            "Job Title_Junior HR Coordinator                   -0.096387\n",
            "Job Title_Marketing Coordinator                   -0.101075\n",
            "Job Title_Sales Representative                    -0.102096\n",
            "Job Title_Sales Executive                         -0.103604\n",
            "Job Title_Junior Web Developer                    -0.104832\n",
            "Job Title_Web Developer                           -0.106408\n",
            "Job Title_Human Resources Coordinator             -0.107886\n",
            "Job Title_Junior Software Engineer                -0.107937\n",
            "Job Title_Front end Developer                     -0.111093\n",
            "Job Title_Junior Sales Representative             -0.116683\n",
            "Job Title_Product Designer                        -0.119369\n",
            "Job Title_Software Developer                      -0.132510\n",
            "Job Title_Junior HR Generalist                    -0.139013\n",
            "Job Title_Junior Software Developer               -0.140980\n",
            "Job Title_Marketing Analyst                       -0.140984\n",
            "Job Title_Sales Associate                         -0.154928\n",
            "Job Title_Receptionist                            -0.158744\n",
            "Job Title_Junior Sales Associate                  -0.243210\n",
            "Education Level_High School                       -0.399294\n",
            "Education Level_Bachelor's Degree                 -0.409389\n",
            "Name: Salary, dtype: float64\n"
          ]
        }
      ],
      "source": [
        "correlation_matrix = df.corr()\n",
        "print(correlation_matrix['Salary'].sort_values(ascending=False))"
      ]
    },
    {
      "cell_type": "markdown",
      "metadata": {
        "id": "QfiixYkjHxHr"
      },
      "source": [
        "## Fist model : applying all variables"
      ]
    },
    {
      "cell_type": "markdown",
      "source": [
        "I don't personally like to apply all the possible characteristics in X when I'm doing a linear regression prediction, but I know it's a good practice, so I decided to go for it first."
      ],
      "metadata": {
        "id": "Vu1y0m1f6sjG"
      }
    },
    {
      "cell_type": "code",
      "source": [
        "from sklearn.preprocessing import StandardScaler\n",
        "from sklearn.linear_model import LinearRegression\n",
        "from sklearn.model_selection import train_test_split"
      ],
      "metadata": {
        "id": "PYpVszijbMg2"
      },
      "execution_count": 65,
      "outputs": []
    },
    {
      "cell_type": "code",
      "source": [
        "X_cols = list(set(df.columns)-set(['Salary']))\n",
        "y_col = ['Salary']\n"
      ],
      "metadata": {
        "id": "BJ754K88bnII"
      },
      "execution_count": 66,
      "outputs": []
    },
    {
      "cell_type": "code",
      "source": [
        "X = df[X_cols].values\n",
        "y = df[y_col].values"
      ],
      "metadata": {
        "id": "y1d4pc1SbuFC"
      },
      "execution_count": 67,
      "outputs": []
    },
    {
      "cell_type": "code",
      "source": [
        "X_train, X_test, y_train, y_test = train_test_split(X,y)"
      ],
      "metadata": {
        "id": "F5YbRUBEcB5q"
      },
      "execution_count": 68,
      "outputs": []
    },
    {
      "cell_type": "code",
      "source": [
        "sc_x = StandardScaler().fit(X)\n",
        "sc_y = StandardScaler().fit(y)\n"
      ],
      "metadata": {
        "id": "QgBYIurGcDK_"
      },
      "execution_count": 69,
      "outputs": []
    },
    {
      "cell_type": "code",
      "source": [
        "X_train = sc_x.transform(X_train)\n",
        "X_test = sc_x.transform(X_test)\n",
        "y_train = sc_y.transform(y_train)\n",
        "y_test = sc_y.transform(y_test)"
      ],
      "metadata": {
        "id": "qm5dH5H7cH93"
      },
      "execution_count": 70,
      "outputs": []
    },
    {
      "cell_type": "code",
      "source": [
        "model = LinearRegression()\n",
        "model.fit(X_train,y_train)\n",
        "y_pred = model.predict(X_test)"
      ],
      "metadata": {
        "id": "kFN_ldcUcOE9"
      },
      "execution_count": 71,
      "outputs": []
    },
    {
      "cell_type": "code",
      "source": [
        "y_pred.shape"
      ],
      "metadata": {
        "colab": {
          "base_uri": "https://localhost:8080/"
        },
        "id": "piRsQqfbcPzo",
        "outputId": "92d9e792-474c-4b7d-9975-4b45200c53cc"
      },
      "execution_count": 72,
      "outputs": [
        {
          "output_type": "execute_result",
          "data": {
            "text/plain": [
              "(1676, 1)"
            ]
          },
          "metadata": {},
          "execution_count": 72
        }
      ]
    },
    {
      "cell_type": "code",
      "source": [
        "import sklearn.metrics as metrics\n",
        "from sklearn.metrics import mean_squared_error, r2_score\n",
        "\n",
        "mse = metrics.mean_squared_error(y_test,y_pred)\n",
        "r2 = r2_score(y_test, y_pred)"
      ],
      "metadata": {
        "id": "Ruy_EMF6cjfX"
      },
      "execution_count": 73,
      "outputs": []
    },
    {
      "cell_type": "code",
      "source": [
        "print(f\"Coeficiente de Determinación (R^2): {r2:.2f}\")\n",
        "print(\"mse: \", round(mse, 4))"
      ],
      "metadata": {
        "colab": {
          "base_uri": "https://localhost:8080/"
        },
        "id": "adcp5wGpck6k",
        "outputId": "640d167c-c61b-4c68-e814-99b3c9d5d601"
      },
      "execution_count": 74,
      "outputs": [
        {
          "output_type": "stream",
          "name": "stdout",
          "text": [
            "Coeficiente de Determinación (R^2): -662282370207862134199549952.00\n",
            "mse:  6.450771802871055e+26\n"
          ]
        }
      ]
    },
    {
      "cell_type": "code",
      "source": [
        "plt.figure(figsize=(10, 6))\n",
        "plt.scatter(y_test, y_pred, color='blue', alpha=0.7)\n",
        "plt.plot([y_test.min(), y_test.max()], [y_test.min(), y_test.max()], color='red', linestyle='--')  # Línea de referencia\n",
        "plt.xlabel('Valores Reales')\n",
        "plt.ylabel('Valores Predichos')\n",
        "plt.title('Valores Reales vs Valores Predichos')\n",
        "plt.grid(True)\n",
        "plt.show()"
      ],
      "metadata": {
        "colab": {
          "base_uri": "https://localhost:8080/",
          "height": 592
        },
        "id": "ETFxKbzWfHRx",
        "outputId": "87a1c374-cc03-437e-c51b-2d93433154d9"
      },
      "execution_count": 75,
      "outputs": [
        {
          "output_type": "display_data",
          "data": {
            "text/plain": [
              "<Figure size 1000x600 with 1 Axes>"
            ],
            "image/png": "[encoded data removed]"
          },
          "metadata": {}
        }
      ]
    },
    {
      "cell_type": "markdown",
      "source": [
        "Conclusions: It's not even acceptable, so I'm going to try out other alternatives to optimize the model."
      ],
      "metadata": {
        "id": "Ptf67VK57FAh"
      }
    },
    {
      "cell_type": "markdown",
      "source": [
        "#Secoond Model"
      ],
      "metadata": {
        "id": "BVvZ6sDw7c3D"
      }
    },
    {
      "cell_type": "markdown",
      "source": [
        "This time i will try the characteristics i'm more interesting in after the correlation analysis"
      ],
      "metadata": {
        "id": "n6mwXUML7nEP"
      }
    },
    {
      "cell_type": "code",
      "source": [
        "X_cols= ['Years of Experience', 'Age', 'Education Level_PhD',\n",
        "         'Job Title_Software Engineer Manager', 'Job Title_Data Scientist']"
      ],
      "metadata": {
        "id": "9gQdpAkZ7fdu"
      },
      "execution_count": 79,
      "outputs": []
    },
    {
      "cell_type": "code",
      "source": [
        "y_col = ['Salary']"
      ],
      "metadata": {
        "id": "Ht0ZoVZp7xjO"
      },
      "execution_count": 80,
      "outputs": []
    },
    {
      "cell_type": "code",
      "source": [
        "X = df[X_cols].values\n",
        "y = df[y_col].values"
      ],
      "metadata": {
        "id": "nDhqrrPA7yWJ"
      },
      "execution_count": 81,
      "outputs": []
    },
    {
      "cell_type": "code",
      "source": [
        "X_train, X_test, y_train, y_test = train_test_split(X,y)"
      ],
      "metadata": {
        "id": "KiJeDEww70-C"
      },
      "execution_count": 82,
      "outputs": []
    },
    {
      "cell_type": "code",
      "source": [
        "sc_x = StandardScaler().fit(X)\n",
        "sc_y = StandardScaler().fit(y)"
      ],
      "metadata": {
        "id": "RfOz58yi76Qc"
      },
      "execution_count": 83,
      "outputs": []
    },
    {
      "cell_type": "code",
      "source": [
        "X_train = sc_x.transform(X_train)\n",
        "X_test = sc_x.transform(X_test)\n",
        "y_train = sc_y.transform(y_train)\n",
        "y_test = sc_y.transform(y_test)"
      ],
      "metadata": {
        "id": "5zYH6f5R77MB"
      },
      "execution_count": 84,
      "outputs": []
    },
    {
      "cell_type": "code",
      "source": [
        "model = LinearRegression()\n",
        "model.fit(X_train,y_train)\n",
        "y_pred = model.predict(X_test)"
      ],
      "metadata": {
        "id": "lEn4BH4D79f-"
      },
      "execution_count": 85,
      "outputs": []
    },
    {
      "cell_type": "code",
      "source": [
        "y_pred.shape"
      ],
      "metadata": {
        "colab": {
          "base_uri": "https://localhost:8080/"
        },
        "id": "O-e8LEQ88B7j",
        "outputId": "0c0d3e37-aae4-4ada-86b5-d2e54cded9bf"
      },
      "execution_count": 86,
      "outputs": [
        {
          "output_type": "execute_result",
          "data": {
            "text/plain": [
              "(1676, 1)"
            ]
          },
          "metadata": {},
          "execution_count": 86
        }
      ]
    },
    {
      "cell_type": "code",
      "source": [
        "mse = metrics.mean_squared_error(y_test,y_pred)\n",
        "r2 = r2_score(y_test, y_pred)"
      ],
      "metadata": {
        "id": "6wbS_bMi8G3-"
      },
      "execution_count": 87,
      "outputs": []
    },
    {
      "cell_type": "code",
      "source": [
        "print(f\"Coeficiente de Determinación (R^2): {r2:.2f}\")\n",
        "print(\"mse: \", round(mse, 4))"
      ],
      "metadata": {
        "colab": {
          "base_uri": "https://localhost:8080/"
        },
        "id": "9F7PsHWc8JFT",
        "outputId": "8ada8741-eeb3-4371-86bc-cc02df959e9c"
      },
      "execution_count": 88,
      "outputs": [
        {
          "output_type": "stream",
          "name": "stdout",
          "text": [
            "Coeficiente de Determinación (R^2): 0.69\n",
            "mse:  0.3046\n"
          ]
        }
      ]
    },
    {
      "cell_type": "code",
      "source": [
        "plt.figure(figsize=(10, 6))\n",
        "plt.scatter(y_test, y_pred, color='blue', alpha=0.7)\n",
        "plt.plot([y_test.min(), y_test.max()], [y_test.min(), y_test.max()], color='red', linestyle='--')  # Línea de referencia\n",
        "plt.xlabel('Valores Reales')\n",
        "plt.ylabel('Valores Predichos')\n",
        "plt.title('Valores Reales vs Valores Predichos')\n",
        "plt.grid(True)\n",
        "plt.show()"
      ],
      "metadata": {
        "colab": {
          "base_uri": "https://localhost:8080/",
          "height": 592
        },
        "id": "drh_QvSX8NEJ",
        "outputId": "8dbce0c5-e6d6-4832-ae88-43acb09c5a2a"
      },
      "execution_count": 89,
      "outputs": [
        {
          "output_type": "display_data",
          "data": {
            "text/plain": [
              "<Figure size 1000x600 with 1 Axes>"
            ],
            "image/png": "[encoded data removed]"
          },
          "metadata": {}
        }
      ]
    },
    {
      "cell_type": "markdown",
      "source": [
        "Conclusion: a 0.69% it's pretty good , i've tried take out other characteristics but i didn't make any difference or it made it worst so decided to keep this model."
      ],
      "metadata": {
        "id": "JvmhHDrW8YzN"
      }
    },
    {
      "cell_type": "markdown",
      "source": [
        "There's space for improvement?\n",
        "I'm aware there're other models that may fit better the data, but this is a linear regression project so i will keep it this way. You will see i will measure the overfit next but it wasn't something to work on so this it's the best model i could find and for salary calculation is more than fine."
      ],
      "metadata": {
        "id": "mb6p-q1l8n4g"
      }
    },
    {
      "cell_type": "markdown",
      "source": [
        "#Overfitting analysis"
      ],
      "metadata": {
        "id": "KnbHZVTK9hxk"
      }
    },
    {
      "cell_type": "code",
      "source": [
        "import sklearn.metrics as metrics\n",
        "from sklearn.metrics import mean_squared_error, r2_score\n"
      ],
      "metadata": {
        "id": "zgsKwNb69YtP"
      },
      "execution_count": 90,
      "outputs": []
    },
    {
      "cell_type": "code",
      "source": [
        "y_train_pred = model.predict(X_train)\n",
        "y_test_pred = model.predict(X_test)\n"
      ],
      "metadata": {
        "id": "X8rMDZkY9cQR"
      },
      "execution_count": 92,
      "outputs": []
    },
    {
      "cell_type": "code",
      "source": [
        "rmse_train = np.sqrt(mean_squared_error(y_train, y_train_pred))\n",
        "rmse_test = np.sqrt(mean_squared_error(y_test, y_test_pred))\n",
        "\n",
        "print(f\"RMSE en el conjunto de entrenamiento: {rmse_train:.2f}\")\n",
        "print(f\"RMSE en el conjunto de prueba: {rmse_test:.2f}\")"
      ],
      "metadata": {
        "colab": {
          "base_uri": "https://localhost:8080/"
        },
        "id": "SGd65Hzf9nRy",
        "outputId": "b93dac74-9a19-41da-90cb-2faafc8f1a1b"
      },
      "execution_count": 93,
      "outputs": [
        {
          "output_type": "stream",
          "name": "stdout",
          "text": [
            "RMSE en el conjunto de entrenamiento: 0.56\n",
            "RMSE en el conjunto de prueba: 0.55\n"
          ]
        }
      ]
    },
    {
      "cell_type": "markdown",
      "source": [
        "#cross validation\n"
      ],
      "metadata": {
        "id": "yP97PzsU9tEf"
      }
    },
    {
      "cell_type": "code",
      "source": [
        "from sklearn.model_selection import cross_val_score"
      ],
      "metadata": {
        "id": "z2ay_5O79uzn"
      },
      "execution_count": 94,
      "outputs": []
    },
    {
      "cell_type": "code",
      "source": [
        "cv_scores = cross_val_score(model, X_train, y_train, scoring='neg_mean_squared_error', cv=5)\n",
        "cv_rmse = np.sqrt(-cv_scores.mean())\n",
        "\n",
        "print(f\"RMSE promedio en validación cruzada (5-fold): {cv_rmse:.2f}\")"
      ],
      "metadata": {
        "colab": {
          "base_uri": "https://localhost:8080/"
        },
        "id": "D19lgnfX90bA",
        "outputId": "9becacbe-72e7-48e0-bea5-5659dc91fb7f"
      },
      "execution_count": 95,
      "outputs": [
        {
          "output_type": "stream",
          "name": "stdout",
          "text": [
            "RMSE promedio en validación cruzada (5-fold): 0.56\n"
          ]
        }
      ]
    },
    {
      "cell_type": "code",
      "source": [
        "if rmse_test > rmse_train:\n",
        "    print(\"\\nPosible sobreajuste detectado: el error en el conjunto de prueba es significativamente mayor que en el entrenamiento.\")\n",
        "else:\n",
        "    print(\"\\nEl modelo parece generalizar bien: el error en el conjunto de prueba es similar al de entrenamiento.\")"
      ],
      "metadata": {
        "colab": {
          "base_uri": "https://localhost:8080/"
        },
        "id": "4ugv9cVi99XL",
        "outputId": "b282be80-dc47-4aa4-87a8-4881b91208fa"
      },
      "execution_count": 96,
      "outputs": [
        {
          "output_type": "stream",
          "name": "stdout",
          "text": [
            "\n",
            "El modelo parece generalizar bien: el error en el conjunto de prueba es similar al de entrenamiento.\n"
          ]
        }
      ]
    }
  ],
  "metadata": {
    "colab": {
      "provenance": [],
      "toc_visible": true,
      "authorship_tag": "ABX9TyNTDUVc5aUi2X+Tk1sbPuWL",
      "include_colab_link": true
    },
    "kernelspec": {
      "display_name": "Python 3",
      "name": "python3"
    },
    "language_info": {
      "name": "python"
    }
  },
  "nbformat": 4,
  "nbformat_minor": 0
}